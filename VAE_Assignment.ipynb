{
 "cells": [
  {
   "cell_type": "code",
   "execution_count": 1,
   "id": "3405eac7",
   "metadata": {},
   "outputs": [],
   "source": [
    "import os\n",
    "os.environ[\"CUDA_VISIBLE_DEVICES\"] = \"1\""
   ]
  },
  {
   "cell_type": "code",
   "execution_count": 2,
   "id": "581ea4cd",
   "metadata": {},
   "outputs": [
    {
     "name": "stderr",
     "output_type": "stream",
     "text": [
      "/data3/home/karmpatel/miniconda3/envs/torch310/lib/python3.11/site-packages/tqdm/auto.py:21: TqdmWarning: IProgress not found. Please update jupyter and ipywidgets. See https://ipywidgets.readthedocs.io/en/stable/user_install.html\n",
      "  from .autonotebook import tqdm as notebook_tqdm\n"
     ]
    }
   ],
   "source": [
    "import zipfile\n",
    "# from natsort import natsorted\n",
    "import torch\n",
    "import torch.nn as nn\n",
    "from torch.utils.data import Dataset, DataLoader\n",
    "import torchvision.transforms as transforms\n",
    "from PIL import Image\n",
    "# from model import VAE\n",
    "\n",
    "import torch.nn as nn\n",
    "import torch.nn.functional as F\n",
    "import torchvision\n",
    "from torchsummary import summary\n",
    "import matplotlib.pyplot as plt\n",
    "from tqdm import tqdm\n",
    "import torchmetrics\n",
    "\n",
    "%reload_ext autoreload\n",
    "%autoreload 2"
   ]
  },
  {
   "cell_type": "code",
   "execution_count": 4,
   "id": "fcf05227",
   "metadata": {},
   "outputs": [],
   "source": [
    "# Load dataset\n",
    "device = torch.device(\"cuda\")\n",
    "cpu_device = torch.device(\"cpu\")"
   ]
  },
  {
   "cell_type": "code",
   "execution_count": 3,
   "id": "a33041f0",
   "metadata": {},
   "outputs": [],
   "source": [
    "DATA_DIR_PATH = \"autoencoders/dataset\"\n",
    "DATA_PATH = os.path.join(DATA_DIR_PATH, 'animal-faces')\n",
    "DATA_URL = 'https://www.kaggle.com/datasets/andrewmvd/animal-faces/download?datasetVersionNumber=1'\n",
    "device = torch.device(\"cuda\")\n",
    "cpu_device = torch.device(\"cpu\")\n",
    "\n",
    "class AnimalfaceDataset(Dataset):\n",
    "    def __init__(self, transform, type='train', label_dict = {\"dog\":0, \"cat\":1, \"wild\":2} , img_width=128) -> None:\n",
    "        self.transform = transform\n",
    "        # self.root_dir specifies weather you are at afhq/train or afhq/val directory\n",
    "        self.label_dict = label_dict\n",
    "        self.root_dir = os.path.join(DATA_PATH, type)\n",
    "        assert os.path.exists(self.root_dir), \"Check for the dataset, it is not where it should be. If not present, you can download it by clicking above DATA_URL\"\n",
    "        subdir = os.listdir(self.root_dir)\n",
    "        self.image_names = []\n",
    "        \n",
    "        for category in subdir:\n",
    "            subdir_path = os.path.join(self.root_dir, category)\n",
    "            self.image_names+=os.listdir(subdir_path)\n",
    "\n",
    "        self.img_arr = torch.zeros((len(self.image_names), 3, img_width ,img_width))\n",
    "        self.labels = torch.zeros(len(self.image_names))\n",
    "            \n",
    "        for i,img_name in enumerate(tqdm(self.image_names)):\n",
    "            label = self.label_dict[img_name.split(\"_\")[1]]\n",
    "            img_path = os.path.join(self.root_dir, img_name.split(\"_\")[1], img_name)\n",
    "            # Load image and convert it to RGB\n",
    "            img = Image.open(img_path).convert('RGB')\n",
    "            # Apply transformations to the image\n",
    "            img = self.transform(img)\n",
    "            self.img_arr[i] = img\n",
    "            self.labels[i] = label\n",
    "            \n",
    "    def __getitem__(self, idx):\n",
    "        return self.img_arr[idx], self.labels[idx]\n",
    "    \n",
    "    def __len__(self):\n",
    "        return len(self.image_names)"
   ]
  },
  {
   "cell_type": "code",
   "execution_count": 7,
   "id": "b4790376",
   "metadata": {},
   "outputs": [],
   "source": [
    "width = 128\n",
    "train_transform = transforms.Compose([transforms.ToTensor(), transforms.Resize((width,width))])"
   ]
  },
  {
   "cell_type": "code",
   "execution_count": 8,
   "id": "3fddc6a0",
   "metadata": {},
   "outputs": [
    {
     "name": "stderr",
     "output_type": "stream",
     "text": [
      "  0%|                                                                                                                         | 0/14630 [00:00<?, ?it/s]/data3/home/karmpatel/miniconda3/envs/torch310/lib/python3.11/site-packages/torchvision/transforms/functional.py:1603: UserWarning: The default value of the antialias parameter of all the resizing transforms (Resize(), RandomResizedCrop(), etc.) will change from None to True in v0.17, in order to be consistent across the PIL and Tensor backends. To suppress this warning, directly pass antialias=True (recommended, future default), antialias=None (current default, which means False for Tensors and True for PIL), or antialias=False (only works on Tensors - PIL will still use antialiasing). This also applies if you are using the inference transforms from the models weights: update the call to weights.transforms(antialias=True).\n",
      "  warnings.warn(\n",
      "100%|█████████████████████████████████████████████████████████████████████████████████████████████████████████████| 14630/14630 [11:15<00:00, 21.65it/s]\n"
     ]
    }
   ],
   "source": [
    "train_data = AnimalfaceDataset(transform=train_transform, img_width=width)"
   ]
  },
  {
   "cell_type": "code",
   "execution_count": 9,
   "id": "080a8b47",
   "metadata": {},
   "outputs": [
    {
     "name": "stderr",
     "output_type": "stream",
     "text": [
      "100%|███████████████████████████████████████████████████████████████████████████████████████████████████████████████| 1500/1500 [00:26<00:00, 56.51it/s]\n"
     ]
    }
   ],
   "source": [
    "val_transform = transforms.Compose([transforms.ToTensor(), transforms.Resize((width,width))])\n",
    "val_data = AnimalfaceDataset(transform=val_transform, type=\"val\", img_width=width)"
   ]
  },
  {
   "cell_type": "code",
   "execution_count": 28,
   "id": "6f541c53",
   "metadata": {},
   "outputs": [],
   "source": [
    "def show_img(x):\n",
    "    plt.figure(figsize=(2,2))\n",
    "    plt.imshow(x.permute(0,2,3,1).detach().to(cpu_device).numpy()[0])"
   ]
  },
  {
   "cell_type": "code",
   "execution_count": 29,
   "id": "989ad42a",
   "metadata": {},
   "outputs": [
    {
     "name": "stdout",
     "output_type": "stream",
     "text": [
      "torch.Size([512, 3, 128, 128]) torch.Size([512])\n"
     ]
    },
    {
     "data": {
      "image/png": "[encoded data removed]",
      "text/plain": [
       "<Figure size 200x200 with 1 Axes>"
      ]
     },
     "metadata": {},
     "output_type": "display_data"
    }
   ],
   "source": [
    "BATCH_SIZE = 512\n",
    "val_loader = DataLoader(val_data, batch_size=BATCH_SIZE, shuffle=True)\n",
    "train_loader = DataLoader(train_data, batch_size=BATCH_SIZE, shuffle=True)\n",
    "x, y = next(iter(val_loader))\n",
    "print(x.shape, y.shape)\n",
    "show_img(x)"
   ]
  },
  {
   "cell_type": "markdown",
   "id": "3a9ae83b",
   "metadata": {},
   "source": [
    "# Q1 - GMM"
   ]
  },
  {
   "cell_type": "markdown",
   "id": "96bf408b",
   "metadata": {},
   "source": [
    "# Q2 - Vanila - VAE"
   ]
  },
  {
   "cell_type": "code",
   "execution_count": 10,
   "id": "5f50366c",
   "metadata": {},
   "outputs": [],
   "source": [
    "class Encoder_vae(nn.Module):\n",
    "    def __init__(self, filters,  kernel_sizes,  strides, hiddens_sizes, paddings, \n",
    "                 return_only_conv=False, return_only_liner=False, droput_prob=0.1, curr_device=\"cuda\", n_samples=5):\n",
    "        super(Encoder_vae, self).__init__()\n",
    "        \n",
    "        self.curr_device = curr_device\n",
    "        self.return_only_conv = return_only_conv\n",
    "        self.return_only_liner = return_only_liner\n",
    "        self.n_samples = n_samples\n",
    "        conv_layers = []\n",
    "        for i in range(len(kernel_sizes)):\n",
    "            conv_layers.append(nn.Conv2d(filters[i], filters[i+1], kernel_sizes[i], strides[i], paddings[i]))\n",
    "            conv_layers.append(nn.ReLU(True))\n",
    "\n",
    "        self.conv_layer = nn.Sequential(*conv_layers)\n",
    "\n",
    "        hidden_layers = []\n",
    "        hiddens_sizes_cpy = hiddens_sizes.copy()\n",
    "        hiddens_sizes_cpy[-1] = hiddens_sizes_cpy[-1]*2 # mu and sigma\n",
    "        for i in range(len(hiddens_sizes_cpy)-1):\n",
    "            hidden_layers.append(nn.Dropout(p=droput_prob))\n",
    "            hidden_layers.append(nn.Linear(hiddens_sizes_cpy[i], hiddens_sizes_cpy[i+1]))\n",
    "            if i < len(hiddens_sizes_cpy)-2:\n",
    "                hidden_layers.append(nn.ReLU(True))\n",
    "        self.liner_layer = nn.Sequential(*hidden_layers)\n",
    "       \n",
    "    def forward(self, x):\n",
    "        if self.return_only_conv:\n",
    "            x = self.conv_layer(x)\n",
    "            x = x.flatten(start_dim=1)\n",
    "            z = x\n",
    "        elif self.return_only_liner:\n",
    "            x = x.flatten(start_dim=1)\n",
    "            x = self.liner_layer(x)\n",
    "            z = x\n",
    "        else:\n",
    "            x = self.conv_layer(x)\n",
    "            x = x.flatten(start_dim=1)\n",
    "            x = self.liner_layer(x)\n",
    "            z = x\n",
    "\n",
    "        z_dim = z.shape[-1]//2\n",
    "        mu, log_var = z[:, :z_dim], z[:, z_dim:]\n",
    "        sigma = torch.exp(0.5*log_var)\n",
    "        eps = torch.randn((z_dim, self.n_samples)).to(torch.device(self.curr_device))\n",
    "        z = []\n",
    "        for i in range(self.n_samples):\n",
    "            z.append(mu + sigma*eps[:,i])\n",
    "        z = torch.stack(z)\n",
    "        return z, mu, log_var\n",
    "\n",
    "    \n",
    "class Decoder(nn.Module):\n",
    "    def __init__(self, conv_op_size,  filters, kernel_sizes, strides, output_paddings, \n",
    "                   paddings, hiddens_sizes, return_only_conv=False, return_only_liner=False, droput_prob=0.1):\n",
    "        super(Decoder, self).__init__()\n",
    "        self.return_only_conv = return_only_conv\n",
    "        self.return_only_liner = return_only_liner\n",
    "        print(hiddens_sizes)\n",
    "        \n",
    "        hidden_layers = []\n",
    "        for i in range(len(hiddens_sizes)-1):\n",
    "            hidden_layers.append(nn.Dropout(p=droput_prob))\n",
    "            hidden_layers.append(nn.Linear(hiddens_sizes[i], hiddens_sizes[i+1]))\n",
    "            if i < len(hiddens_sizes)-2:\n",
    "                hidden_layers.append(nn.ReLU(True))\n",
    "        \n",
    "        self.liner_layer = nn.Sequential(*hidden_layers)\n",
    "\n",
    "        conv_layers = []\n",
    "        for i in range(len(kernel_sizes)):\n",
    "            conv_layers.append(nn.ConvTranspose2d(filters[i], filters[i+1], kernel_sizes[i], \n",
    "                                                  stride=strides[i], output_padding=output_paddings[i], padding=paddings[i]))\n",
    "            if i < len(kernel_sizes)-1:\n",
    "                conv_layers.append(nn.ReLU(True))\n",
    "\n",
    "        self.conv_layer = nn.Sequential(*conv_layers)        \n",
    "        self.unflatten = nn.Unflatten(dim=2, unflattened_size=conv_op_size)\n",
    "        \n",
    "        \n",
    "    def forward(self, x):\n",
    "        if self.return_only_conv:\n",
    "            x = self.unflatten(x)\n",
    "            x = self.conv_layer(x)\n",
    "            x = torch.sigmoid(x)\n",
    "            return x\n",
    "        elif self.return_only_liner:\n",
    "            # print(x.shape)\n",
    "            x = self.liner_layer(x)\n",
    "            x = self.unflatten(x)\n",
    "            x = torch.sigmoid(x)\n",
    "            return x\n",
    "        else:\n",
    "            x = self.liner_layer(x)\n",
    "            x = self.unflatten(x)\n",
    "            ans = []\n",
    "            for each in x:\n",
    "                ans.append(self.conv_layer(each))\n",
    "            x_hat = torch.stack(ans)\n",
    "            x_hat = torch.sigmoid(x_hat)\n",
    "        return x_hat\n",
    "\n",
    "\n",
    "class VAE(nn.Module):\n",
    "    def __init__(self, feature_size=2048, conv_ip_size=(32, 14, 14), filters = [3,12,24,48,128],  \n",
    "                 kernel_sizes = [3, 3, 3, 3], strides = [2, 2, 2, 2], output_paddings = [0,0,0,0], \n",
    "                 paddings = [0,0,0,0], hiddens_sizes = [2048, 1024, 512, 256, 3], return_only_conv=False, \n",
    "                 return_only_liner=False, droput_prob=0.2, n_samples=5):\n",
    "        '''\n",
    "        if return_only_liner=True, then conv_ip_size = (3, 128, 128) and hidden_sizes [3*128*128, ... , features_size]\n",
    "        '''\n",
    "        super(VAE, self).__init__()\n",
    "        self.encoder_vae = Encoder_vae(filters=filters, \n",
    "                               kernel_sizes=kernel_sizes,strides=strides, hiddens_sizes=hiddens_sizes, \n",
    "                               return_only_conv=return_only_conv, return_only_liner=return_only_liner, \n",
    "                               droput_prob=droput_prob, paddings=paddings, n_samples=5)\n",
    "        \n",
    "        self.decoder = Decoder(conv_op_size=conv_ip_size, filters=filters[::-1], \n",
    "                               kernel_sizes=kernel_sizes[::-1],strides=strides[::-1], output_paddings=output_paddings[::-1],\n",
    "                                 paddings=paddings[::-1], hiddens_sizes=hiddens_sizes[::-1] , return_only_liner=return_only_liner)\n",
    "    \n",
    "    def forward(self,x):\n",
    "        enc, mu, logvar = self.encoder_vae(x)\n",
    "        x_hat = self.decoder(enc)\n",
    "        x_hat_avg = x_hat.mean(dim=0)\n",
    "        return x_hat_avg, enc, mu, logvar\n",
    "\n",
    "    def loss_fn(self, x, x_hat, mu, logvar, beta=1):\n",
    "        mse_loss = nn.MSELoss(reduction=\"sum\")(x, x_hat)\n",
    "        kl_loss = torch.sum(-0.5 * torch.sum(1 + logvar - mu.pow(2) - logvar.exp(), dim=1))\n",
    "        return mse_loss+ beta*kl_loss, mse_loss, kl_loss"
   ]
  },
  {
   "cell_type": "code",
   "execution_count": null,
   "id": "b385089d",
   "metadata": {},
   "outputs": [],
   "source": []
  },
  {
   "cell_type": "code",
   "execution_count": null,
   "id": "c240ebae",
   "metadata": {},
   "outputs": [],
   "source": []
  },
  {
   "cell_type": "code",
   "execution_count": null,
   "id": "1f97c6a3",
   "metadata": {},
   "outputs": [],
   "source": []
  },
  {
   "cell_type": "markdown",
   "id": "e10de1f7",
   "metadata": {},
   "source": [
    "# Q4 - Auto-encoder"
   ]
  },
  {
   "cell_type": "markdown",
   "id": "6492d9ed",
   "metadata": {},
   "source": [
    "### Model"
   ]
  },
  {
   "cell_type": "code",
   "execution_count": 19,
   "id": "9785cba8",
   "metadata": {},
   "outputs": [],
   "source": [
    "class Encoder(nn.Module):\n",
    "    def __init__(self, filters,  kernel_sizes,  strides, hiddens_sizes, paddings, \n",
    "                 return_only_conv=False, return_only_liner=False, droput_prob=0.1):\n",
    "        super(Encoder, self).__init__()\n",
    "        \n",
    "        self.return_only_conv = return_only_conv\n",
    "        self.return_only_liner = return_only_liner\n",
    "        conv_layers = []\n",
    "        for i in range(len(kernel_sizes)):\n",
    "            conv_layers.append(nn.Conv2d(filters[i], filters[i+1], kernel_sizes[i], strides[i], paddings[i]))\n",
    "            conv_layers.append(nn.ReLU(True))\n",
    "\n",
    "        self.conv_layer = nn.Sequential(*conv_layers)\n",
    "\n",
    "        hidden_layers = []\n",
    "        for i in range(len(hiddens_sizes)-1):\n",
    "            hidden_layers.append(nn.Dropout(p=droput_prob))\n",
    "            hidden_layers.append(nn.Linear(hiddens_sizes[i], hiddens_sizes[i+1]))\n",
    "            if i < len(hiddens_sizes)-2:\n",
    "                hidden_layers.append(nn.ReLU(True))\n",
    "\n",
    "            # hidden_layers.append(nn.ReLU(True))\n",
    "        self.liner_layer = nn.Sequential(*hidden_layers)\n",
    "        \n",
    "        \n",
    "    def forward(self, x):\n",
    "        if self.return_only_conv:\n",
    "            x = self.conv_layer(x)\n",
    "            x = x.flatten(start_dim=1)\n",
    "            return x\n",
    "        elif self.return_only_liner:\n",
    "            x = x.flatten(start_dim=1)\n",
    "            x = self.liner_layer(x)\n",
    "            return x\n",
    "        else:\n",
    "            x = self.conv_layer(x)\n",
    "            x = x.flatten(start_dim=1)\n",
    "            x = self.liner_layer(x)\n",
    "        return x\n",
    "\n",
    "    \n",
    "class Decoder(nn.Module):\n",
    "    def __init__(self, conv_op_size,  filters, kernel_sizes, strides, output_paddings, \n",
    "                   paddings, hiddens_sizes, return_only_conv=False, return_only_liner=False, droput_prob=0.1):\n",
    "        super(Decoder, self).__init__()\n",
    "        self.return_only_conv = return_only_conv\n",
    "        self.return_only_liner = return_only_liner\n",
    "        print(hiddens_sizes)\n",
    "        \n",
    "        hidden_layers = []\n",
    "        for i in range(len(hiddens_sizes)-1):\n",
    "            hidden_layers.append(nn.Dropout(p=droput_prob))\n",
    "            hidden_layers.append(nn.Linear(hiddens_sizes[i], hiddens_sizes[i+1]))\n",
    "            if i < len(hiddens_sizes)-2:\n",
    "                hidden_layers.append(nn.ReLU(True))\n",
    "            # hidden_layers.append(nn.ReLU(True))\n",
    "        \n",
    "        self.liner_layer = nn.Sequential(*hidden_layers)\n",
    "\n",
    "        conv_layers = []\n",
    "        for i in range(len(kernel_sizes)):\n",
    "            conv_layers.append(nn.ConvTranspose2d(filters[i], filters[i+1], kernel_sizes[i], \n",
    "                                                  stride=strides[i], output_padding=output_paddings[i], padding=paddings[i]))\n",
    "            if i < len(kernel_sizes)-1:\n",
    "                conv_layers.append(nn.ReLU(True))\n",
    "\n",
    "\n",
    "        self.conv_layer = nn.Sequential(*conv_layers)\n",
    "        \n",
    "        self.unflatten = nn.Unflatten(dim=1, unflattened_size=conv_op_size)\n",
    "        \n",
    "        \n",
    "    def forward(self, x):\n",
    "        if self.return_only_conv:\n",
    "            x = self.unflatten(x)\n",
    "            x = self.conv_layer(x)\n",
    "            x = torch.sigmoid(x)\n",
    "            return x\n",
    "        elif self.return_only_liner:\n",
    "            # print(x.shape)\n",
    "            x = self.liner_layer(x)\n",
    "            x = self.unflatten(x)\n",
    "            x = torch.sigmoid(x)\n",
    "            return x\n",
    "        else:\n",
    "            x = self.liner_layer(x)\n",
    "            x = self.unflatten(x)\n",
    "            x = self.conv_layer(x)\n",
    "            x = torch.sigmoid(x)\n",
    "        return x\n",
    "\n",
    "\n",
    "class AutoEncoder(nn.Module):\n",
    "    def __init__(self, feature_size=2048, conv_ip_size=(32, 14, 14), filters = [3,12,24,48,128],  \n",
    "                 kernel_sizes = [3, 3, 3, 3], strides = [2, 2, 2, 2], output_paddings = [0,0,0,0], \n",
    "                 paddings = [0,0,0,0], hiddens_sizes = [2048, 1024, 512, 256, 3], return_only_conv=False, \n",
    "                 return_only_liner=False, droput_prob=0.2):\n",
    "        '''\n",
    "        if return_only_liner=True, then conv_ip_size = (3, 128, 128) and hidden_sizes [3*128*128, ... , features_size]\n",
    "        '''\n",
    "        super(AutoEncoder, self).__init__()\n",
    "        self.encoder = Encoder(filters=filters, \n",
    "                               kernel_sizes=kernel_sizes,strides=strides, hiddens_sizes=hiddens_sizes, \n",
    "                               return_only_conv=return_only_conv, return_only_liner=return_only_liner, \n",
    "                               droput_prob=droput_prob, paddings=paddings)\n",
    "        \n",
    "        self.decoder = Decoder(conv_op_size=conv_ip_size, filters=filters[::-1], \n",
    "                               kernel_sizes=kernel_sizes[::-1],strides=strides[::-1], output_paddings=output_paddings[::-1],\n",
    "                                 paddings=paddings[::-1], hiddens_sizes=hiddens_sizes[::-1] , return_only_liner=return_only_liner)\n",
    "    \n",
    "    def forward(self,x):\n",
    "        enc = self.encoder(x)\n",
    "        x = self.decoder(enc)\n",
    "        return x, enc"
   ]
  },
  {
   "cell_type": "code",
   "execution_count": 17,
   "id": "bc864a8d",
   "metadata": {},
   "outputs": [
    {
     "name": "stdout",
     "output_type": "stream",
     "text": [
      "[128, 1024]\n"
     ]
    }
   ],
   "source": [
    "feature_size = 128\n",
    "filters = [3, 16, 32, 64, 128, 256]\n",
    "kernel_sizes = [4, 4, 4, 4, 4]\n",
    "strides = [2,2,2,2,2]\n",
    "paddings = [0,0,0,0,0]\n",
    "output_paddings = [0,1,0,0,0]\n",
    "# paddings = [0,0]\n",
    "return_only_liner = 0\n",
    "dropout_prob = 0.0\n",
    "conv_ip_size = (256,2,2)\n",
    "hidden_sizes = [conv_ip_size[0]*conv_ip_size[1]*conv_ip_size[2], feature_size]  \n",
    "\n",
    "ae = AutoEncoder(feature_size=feature_size, conv_ip_size=conv_ip_size, filters=filters, \n",
    "                 kernel_sizes=kernel_sizes,strides=strides,output_paddings=output_paddings, \n",
    "                 paddings=paddings, hiddens_sizes=hidden_sizes, return_only_liner=return_only_liner, droput_prob=dropout_prob).to(device)"
   ]
  },
  {
   "cell_type": "markdown",
   "id": "4d15faa1",
   "metadata": {},
   "source": [
    "### Training"
   ]
  },
  {
   "cell_type": "code",
   "execution_count": null,
   "id": "270f8654",
   "metadata": {
    "scrolled": false
   },
   "outputs": [],
   "source": [
    "%%time\n",
    "n_epochs = 100\n",
    "loss_fn = nn.MSELoss()\n",
    "optim = torch.optim.Adam(ae.parameters(), lr=1e-3)\n",
    "losses = []\n",
    "val_losses = []\n",
    "for epoch in range(n_epochs):\n",
    "    ae.train()\n",
    "    tqdm_obj = tqdm(train_loader)\n",
    "    for i, (X,y) in enumerate(tqdm_obj):\n",
    "        X, y = X.to(device), y.to(device)\n",
    "        optim.zero_grad()\n",
    "        \n",
    "        X_hat, enc = ae(X) # [B, feature_size]\n",
    "        loss = loss_fn(X, X_hat)\n",
    "        loss.backward()\n",
    "        optim.step()\n",
    "\n",
    "        tqdm_obj.set_description_str(f\"Epoch: {epoch} Loss {loss}\")\n",
    "        if i%1 == 0:\n",
    "            losses.append(loss.detach().to(cpu_device))\n",
    "    \n",
    "    with torch.no_grad(): # mandatory to write\n",
    "        ae.eval()\n",
    "        tqdm_obj = tqdm(val_loader)\n",
    "        for i, (X,y) in enumerate(tqdm_obj):\n",
    "            X, y = X.to(device), y.to(device)\n",
    "\n",
    "            X_hat, enc = ae(X) # [B, feature_size]\n",
    "            val_loss = loss_fn(X, X_hat)\n",
    "\n",
    "            tqdm_obj.set_description_str(f\"Epoch {epoch} Val Loss {val_loss}\")\n",
    "            if i%1 == 0:\n",
    "                val_losses.append(val_loss.detach().to(cpu_device))\n",
    "                "
   ]
  },
  {
   "cell_type": "code",
   "execution_count": 217,
   "id": "d7955232",
   "metadata": {},
   "outputs": [
    {
     "data": {
      "text/plain": [
       "<matplotlib.legend.Legend at 0x7f5556d1ec10>"
      ]
     },
     "execution_count": 217,
     "metadata": {},
     "output_type": "execute_result"
    },
    {
     "data": {
      "image/png": "[encoded data removed]",
      "text/plain": [
       "<Figure size 640x480 with 1 Axes>"
      ]
     },
     "metadata": {},
     "output_type": "display_data"
    }
   ],
   "source": [
    "to_cpu = lambda arr: [each.detach().to(cpu_device) for each in arr]\n",
    "# plt.plot(to_cpu(losses), label=\"train\")\n",
    "plt.plot(to_cpu(val_losses)[0:], label=\"val\")\n",
    "plt.legend()"
   ]
  },
  {
   "cell_type": "code",
   "execution_count": 18,
   "id": "e3b144bd",
   "metadata": {},
   "outputs": [
    {
     "data": {
      "text/plain": [
       "<All keys matched successfully>"
      ]
     },
     "execution_count": 18,
     "metadata": {},
     "output_type": "execute_result"
    }
   ],
   "source": [
    "ae.load_state_dict(torch.load(f'autoencoders/ckpts/autoencoder_{feature_size}_1l.pt'))"
   ]
  },
  {
   "cell_type": "markdown",
   "id": "3b6581cb",
   "metadata": {},
   "source": [
    "### Reconstruction on Validation data"
   ]
  },
  {
   "cell_type": "code",
   "execution_count": 21,
   "id": "1ae6db4f",
   "metadata": {},
   "outputs": [],
   "source": [
    "from torchvision.utils import save_image, make_grid\n",
    "\n",
    "def plot_grid(generated_grid):\n",
    "    plt.figure(figsize=(10,10))\n",
    "    plt.imshow(generated_grid.permute(1,2,0).detach().to(cpu_device).numpy())"
   ]
  },
  {
   "cell_type": "code",
   "execution_count": 30,
   "id": "bef5145d",
   "metadata": {},
   "outputs": [
    {
     "ename": "IndexError",
     "evalue": "Dimension out of range (expected to be in range of [-2, 1], but got 2)",
     "output_type": "error",
     "traceback": [
      "\u001b[0;31m---------------------------------------------------------------------------\u001b[0m",
      "\u001b[0;31mIndexError\u001b[0m                                Traceback (most recent call last)",
      "Cell \u001b[0;32mIn[30], line 2\u001b[0m\n\u001b[1;32m      1\u001b[0m x, y \u001b[38;5;241m=\u001b[39m \u001b[38;5;28mnext\u001b[39m(\u001b[38;5;28miter\u001b[39m(val_loader))\n\u001b[0;32m----> 2\u001b[0m x_hat, enc \u001b[38;5;241m=\u001b[39m ae(x\u001b[38;5;241m.\u001b[39mto(device))\n\u001b[1;32m      3\u001b[0m generated_grid \u001b[38;5;241m=\u001b[39m make_grid(x_hat, nrow\u001b[38;5;241m=\u001b[39m\u001b[38;5;241m10\u001b[39m)\n\u001b[1;32m      4\u001b[0m \u001b[38;5;66;03m# save_image(generated_grid,f\"generated_{feature_size}_1l.png\")\u001b[39;00m\n",
      "File \u001b[0;32m~/miniconda3/envs/torch310/lib/python3.11/site-packages/torch/nn/modules/module.py:1501\u001b[0m, in \u001b[0;36mModule._call_impl\u001b[0;34m(self, *args, **kwargs)\u001b[0m\n\u001b[1;32m   1496\u001b[0m \u001b[38;5;66;03m# If we don't have any hooks, we want to skip the rest of the logic in\u001b[39;00m\n\u001b[1;32m   1497\u001b[0m \u001b[38;5;66;03m# this function, and just call forward.\u001b[39;00m\n\u001b[1;32m   1498\u001b[0m \u001b[38;5;28;01mif\u001b[39;00m \u001b[38;5;129;01mnot\u001b[39;00m (\u001b[38;5;28mself\u001b[39m\u001b[38;5;241m.\u001b[39m_backward_hooks \u001b[38;5;129;01mor\u001b[39;00m \u001b[38;5;28mself\u001b[39m\u001b[38;5;241m.\u001b[39m_backward_pre_hooks \u001b[38;5;129;01mor\u001b[39;00m \u001b[38;5;28mself\u001b[39m\u001b[38;5;241m.\u001b[39m_forward_hooks \u001b[38;5;129;01mor\u001b[39;00m \u001b[38;5;28mself\u001b[39m\u001b[38;5;241m.\u001b[39m_forward_pre_hooks\n\u001b[1;32m   1499\u001b[0m         \u001b[38;5;129;01mor\u001b[39;00m _global_backward_pre_hooks \u001b[38;5;129;01mor\u001b[39;00m _global_backward_hooks\n\u001b[1;32m   1500\u001b[0m         \u001b[38;5;129;01mor\u001b[39;00m _global_forward_hooks \u001b[38;5;129;01mor\u001b[39;00m _global_forward_pre_hooks):\n\u001b[0;32m-> 1501\u001b[0m     \u001b[38;5;28;01mreturn\u001b[39;00m forward_call(\u001b[38;5;241m*\u001b[39margs, \u001b[38;5;241m*\u001b[39m\u001b[38;5;241m*\u001b[39mkwargs)\n\u001b[1;32m   1502\u001b[0m \u001b[38;5;66;03m# Do not call functions when jit is used\u001b[39;00m\n\u001b[1;32m   1503\u001b[0m full_backward_hooks, non_full_backward_hooks \u001b[38;5;241m=\u001b[39m [], []\n",
      "Cell \u001b[0;32mIn[19], line 113\u001b[0m, in \u001b[0;36mAutoEncoder.forward\u001b[0;34m(self, x)\u001b[0m\n\u001b[1;32m    111\u001b[0m \u001b[38;5;28;01mdef\u001b[39;00m \u001b[38;5;21mforward\u001b[39m(\u001b[38;5;28mself\u001b[39m,x):\n\u001b[1;32m    112\u001b[0m     enc \u001b[38;5;241m=\u001b[39m \u001b[38;5;28mself\u001b[39m\u001b[38;5;241m.\u001b[39mencoder(x)\n\u001b[0;32m--> 113\u001b[0m     x \u001b[38;5;241m=\u001b[39m \u001b[38;5;28mself\u001b[39m\u001b[38;5;241m.\u001b[39mdecoder(enc)\n\u001b[1;32m    114\u001b[0m     \u001b[38;5;28;01mreturn\u001b[39;00m x, enc\n",
      "File \u001b[0;32m~/miniconda3/envs/torch310/lib/python3.11/site-packages/torch/nn/modules/module.py:1501\u001b[0m, in \u001b[0;36mModule._call_impl\u001b[0;34m(self, *args, **kwargs)\u001b[0m\n\u001b[1;32m   1496\u001b[0m \u001b[38;5;66;03m# If we don't have any hooks, we want to skip the rest of the logic in\u001b[39;00m\n\u001b[1;32m   1497\u001b[0m \u001b[38;5;66;03m# this function, and just call forward.\u001b[39;00m\n\u001b[1;32m   1498\u001b[0m \u001b[38;5;28;01mif\u001b[39;00m \u001b[38;5;129;01mnot\u001b[39;00m (\u001b[38;5;28mself\u001b[39m\u001b[38;5;241m.\u001b[39m_backward_hooks \u001b[38;5;129;01mor\u001b[39;00m \u001b[38;5;28mself\u001b[39m\u001b[38;5;241m.\u001b[39m_backward_pre_hooks \u001b[38;5;129;01mor\u001b[39;00m \u001b[38;5;28mself\u001b[39m\u001b[38;5;241m.\u001b[39m_forward_hooks \u001b[38;5;129;01mor\u001b[39;00m \u001b[38;5;28mself\u001b[39m\u001b[38;5;241m.\u001b[39m_forward_pre_hooks\n\u001b[1;32m   1499\u001b[0m         \u001b[38;5;129;01mor\u001b[39;00m _global_backward_pre_hooks \u001b[38;5;129;01mor\u001b[39;00m _global_backward_hooks\n\u001b[1;32m   1500\u001b[0m         \u001b[38;5;129;01mor\u001b[39;00m _global_forward_hooks \u001b[38;5;129;01mor\u001b[39;00m _global_forward_pre_hooks):\n\u001b[0;32m-> 1501\u001b[0m     \u001b[38;5;28;01mreturn\u001b[39;00m forward_call(\u001b[38;5;241m*\u001b[39margs, \u001b[38;5;241m*\u001b[39m\u001b[38;5;241m*\u001b[39mkwargs)\n\u001b[1;32m   1502\u001b[0m \u001b[38;5;66;03m# Do not call functions when jit is used\u001b[39;00m\n\u001b[1;32m   1503\u001b[0m full_backward_hooks, non_full_backward_hooks \u001b[38;5;241m=\u001b[39m [], []\n",
      "Cell \u001b[0;32mIn[10], line 95\u001b[0m, in \u001b[0;36mDecoder.forward\u001b[0;34m(self, x)\u001b[0m\n\u001b[1;32m     93\u001b[0m \u001b[38;5;28;01melse\u001b[39;00m:\n\u001b[1;32m     94\u001b[0m     x \u001b[38;5;241m=\u001b[39m \u001b[38;5;28mself\u001b[39m\u001b[38;5;241m.\u001b[39mliner_layer(x)\n\u001b[0;32m---> 95\u001b[0m     x \u001b[38;5;241m=\u001b[39m \u001b[38;5;28mself\u001b[39m\u001b[38;5;241m.\u001b[39munflatten(x)\n\u001b[1;32m     96\u001b[0m     ans \u001b[38;5;241m=\u001b[39m []\n\u001b[1;32m     97\u001b[0m     \u001b[38;5;28;01mfor\u001b[39;00m each \u001b[38;5;129;01min\u001b[39;00m x:\n",
      "File \u001b[0;32m~/miniconda3/envs/torch310/lib/python3.11/site-packages/torch/nn/modules/module.py:1501\u001b[0m, in \u001b[0;36mModule._call_impl\u001b[0;34m(self, *args, **kwargs)\u001b[0m\n\u001b[1;32m   1496\u001b[0m \u001b[38;5;66;03m# If we don't have any hooks, we want to skip the rest of the logic in\u001b[39;00m\n\u001b[1;32m   1497\u001b[0m \u001b[38;5;66;03m# this function, and just call forward.\u001b[39;00m\n\u001b[1;32m   1498\u001b[0m \u001b[38;5;28;01mif\u001b[39;00m \u001b[38;5;129;01mnot\u001b[39;00m (\u001b[38;5;28mself\u001b[39m\u001b[38;5;241m.\u001b[39m_backward_hooks \u001b[38;5;129;01mor\u001b[39;00m \u001b[38;5;28mself\u001b[39m\u001b[38;5;241m.\u001b[39m_backward_pre_hooks \u001b[38;5;129;01mor\u001b[39;00m \u001b[38;5;28mself\u001b[39m\u001b[38;5;241m.\u001b[39m_forward_hooks \u001b[38;5;129;01mor\u001b[39;00m \u001b[38;5;28mself\u001b[39m\u001b[38;5;241m.\u001b[39m_forward_pre_hooks\n\u001b[1;32m   1499\u001b[0m         \u001b[38;5;129;01mor\u001b[39;00m _global_backward_pre_hooks \u001b[38;5;129;01mor\u001b[39;00m _global_backward_hooks\n\u001b[1;32m   1500\u001b[0m         \u001b[38;5;129;01mor\u001b[39;00m _global_forward_hooks \u001b[38;5;129;01mor\u001b[39;00m _global_forward_pre_hooks):\n\u001b[0;32m-> 1501\u001b[0m     \u001b[38;5;28;01mreturn\u001b[39;00m forward_call(\u001b[38;5;241m*\u001b[39margs, \u001b[38;5;241m*\u001b[39m\u001b[38;5;241m*\u001b[39mkwargs)\n\u001b[1;32m   1502\u001b[0m \u001b[38;5;66;03m# Do not call functions when jit is used\u001b[39;00m\n\u001b[1;32m   1503\u001b[0m full_backward_hooks, non_full_backward_hooks \u001b[38;5;241m=\u001b[39m [], []\n",
      "File \u001b[0;32m~/miniconda3/envs/torch310/lib/python3.11/site-packages/torch/nn/modules/flatten.py:139\u001b[0m, in \u001b[0;36mUnflatten.forward\u001b[0;34m(self, input)\u001b[0m\n\u001b[1;32m    138\u001b[0m \u001b[38;5;28;01mdef\u001b[39;00m \u001b[38;5;21mforward\u001b[39m(\u001b[38;5;28mself\u001b[39m, \u001b[38;5;28minput\u001b[39m: Tensor) \u001b[38;5;241m-\u001b[39m\u001b[38;5;241m>\u001b[39m Tensor:\n\u001b[0;32m--> 139\u001b[0m     \u001b[38;5;28;01mreturn\u001b[39;00m \u001b[38;5;28minput\u001b[39m\u001b[38;5;241m.\u001b[39munflatten(\u001b[38;5;28mself\u001b[39m\u001b[38;5;241m.\u001b[39mdim, \u001b[38;5;28mself\u001b[39m\u001b[38;5;241m.\u001b[39munflattened_size)\n",
      "File \u001b[0;32m~/miniconda3/envs/torch310/lib/python3.11/site-packages/torch/_tensor.py:1189\u001b[0m, in \u001b[0;36mTensor.unflatten\u001b[0;34m(self, dim, sizes)\u001b[0m\n\u001b[1;32m   1187\u001b[0m     \u001b[38;5;28;01mreturn\u001b[39;00m \u001b[38;5;28msuper\u001b[39m()\u001b[38;5;241m.\u001b[39munflatten(dim, sizes, names)\n\u001b[1;32m   1188\u001b[0m \u001b[38;5;28;01melse\u001b[39;00m:\n\u001b[0;32m-> 1189\u001b[0m     \u001b[38;5;28;01mreturn\u001b[39;00m \u001b[38;5;28msuper\u001b[39m()\u001b[38;5;241m.\u001b[39munflatten(dim, sizes)\n",
      "\u001b[0;31mIndexError\u001b[0m: Dimension out of range (expected to be in range of [-2, 1], but got 2)"
     ]
    }
   ],
   "source": [
    "x, y = next(iter(val_loader))\n",
    "x_hat, enc = ae(x.to(device))\n",
    "generated_grid = make_grid(x_hat, nrow=10)\n",
    "# save_image(generated_grid,f\"generated_{feature_size}_1l.png\")\n",
    "plot_grid(generated_grid)"
   ]
  },
  {
   "cell_type": "code",
   "execution_count": 25,
   "id": "8bd29132",
   "metadata": {},
   "outputs": [
    {
     "data": {
      "text/plain": [
       "torch.Size([100, 3, 128, 128])"
      ]
     },
     "execution_count": 25,
     "metadata": {},
     "output_type": "execute_result"
    }
   ],
   "source": [
    "x.shape"
   ]
  },
  {
   "cell_type": "code",
   "execution_count": null,
   "id": "c34d451a",
   "metadata": {},
   "outputs": [],
   "source": []
  }
 ],
 "metadata": {
  "kernelspec": {
   "display_name": "Python [conda env:torch310]",
   "language": "python",
   "name": "conda-env-torch310-py"
  },
  "language_info": {
   "codemirror_mode": {
    "name": "ipython",
    "version": 3
   },
   "file_extension": ".py",
   "mimetype": "text/x-python",
   "name": "python",
   "nbconvert_exporter": "python",
   "pygments_lexer": "ipython3",
   "version": "3.11.5"
  }
 },
 "nbformat": 4,
 "nbformat_minor": 5
}
