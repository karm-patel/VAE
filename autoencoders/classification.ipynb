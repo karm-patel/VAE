{
 "cells": [
  {
   "cell_type": "code",
   "execution_count": 1,
   "id": "4bee79ff",
   "metadata": {},
   "outputs": [],
   "source": [
    "import os\n",
    "os.environ[\"CUDA_VISIBLE_DEVICES\"] = \"2\""
   ]
  },
  {
   "cell_type": "code",
   "execution_count": 2,
   "id": "778541b3",
   "metadata": {},
   "outputs": [
    {
     "name": "stderr",
     "output_type": "stream",
     "text": [
      "/data3/home/karmpatel/miniconda3/envs/torch310/lib/python3.11/site-packages/tqdm/auto.py:21: TqdmWarning: IProgress not found. Please update jupyter and ipywidgets. See https://ipywidgets.readthedocs.io/en/stable/user_install.html\n",
      "  from .autonotebook import tqdm as notebook_tqdm\n"
     ]
    }
   ],
   "source": [
    "import zipfile\n",
    "# from natsort import natsorted\n",
    "import torch\n",
    "import torch.nn as nn\n",
    "from torch.utils.data import Dataset, DataLoader\n",
    "import torchvision.transforms as transforms\n",
    "from PIL import Image\n",
    "# from model import VAE\n",
    "\n",
    "import torch.nn as nn\n",
    "import torch.nn.functional as F\n",
    "import torchvision\n",
    "from torchsummary import summary\n",
    "import matplotlib.pyplot as plt\n",
    "from tqdm import tqdm\n",
    "import torchmetrics\n",
    "\n",
    "from models.auto_encoder import AutoEncoder\n",
    "from dataloader.animal_faces import AnimalfaceDataset\n",
    "\n",
    "device = torch.device(\"cuda\")\n",
    "cpu_device = torch.device(\"cpu\")\n",
    "\n",
    "%reload_ext autoreload\n",
    "%autoreload 2"
   ]
  },
  {
   "cell_type": "code",
   "execution_count": 5,
   "id": "664bb2be",
   "metadata": {},
   "outputs": [],
   "source": [
    "width = 128"
   ]
  },
  {
   "cell_type": "code",
   "execution_count": 6,
   "id": "a8e153a1",
   "metadata": {},
   "outputs": [
    {
     "name": "stderr",
     "output_type": "stream",
     "text": [
      "  0%|                                                                                                                           | 0/14630 [00:00<?, ?it/s]/data3/home/karmpatel/miniconda3/envs/torch310/lib/python3.11/site-packages/torchvision/transforms/functional.py:1603: UserWarning: The default value of the antialias parameter of all the resizing transforms (Resize(), RandomResizedCrop(), etc.) will change from None to True in v0.17, in order to be consistent across the PIL and Tensor backends. To suppress this warning, directly pass antialias=True (recommended, future default), antialias=None (current default, which means False for Tensors and True for PIL), or antialias=False (only works on Tensors - PIL will still use antialiasing). This also applies if you are using the inference transforms from the models weights: update the call to weights.transforms(antialias=True).\n",
      "  warnings.warn(\n",
      "100%|██████████████████████████████████████████████████████████████████████████████████████████████████████████████| 14630/14630 [01:38<00:00, 148.64it/s]\n"
     ]
    }
   ],
   "source": [
    "transform = transforms.Compose([transforms.ToTensor(), transforms.Resize((width,width))])\n",
    "train_data = AnimalfaceDataset(transform=transform)"
   ]
  },
  {
   "cell_type": "code",
   "execution_count": 7,
   "id": "def5d345",
   "metadata": {},
   "outputs": [
    {
     "name": "stderr",
     "output_type": "stream",
     "text": [
      "100%|████████████████████████████████████████████████████████████████████████████████████████████████████████████████| 1500/1500 [00:07<00:00, 208.59it/s]\n"
     ]
    }
   ],
   "source": [
    "val_data = AnimalfaceDataset(transform=transform, type=\"val\")"
   ]
  },
  {
   "cell_type": "code",
   "execution_count": 35,
   "id": "f4799390",
   "metadata": {},
   "outputs": [
    {
     "data": {
      "text/plain": [
       "(torch.Size([2048, 3, 128, 128]), torch.Size([2048]))"
      ]
     },
     "execution_count": 35,
     "metadata": {},
     "output_type": "execute_result"
    }
   ],
   "source": [
    "BATCH_SIZE = 2048\n",
    "val_loader = DataLoader(val_data, batch_size=BATCH_SIZE, shuffle=True)\n",
    "train_loader = DataLoader(train_data, batch_size=BATCH_SIZE, shuffle=True)\n",
    "x, y = next(iter(train_loader))\n",
    "x.shape, y.shape"
   ]
  },
  {
   "cell_type": "code",
   "execution_count": 108,
   "id": "c53fc94f",
   "metadata": {},
   "outputs": [],
   "source": [
    "width = 128\n",
    "feature_size = 128\n",
    "filters = [3, 16, 32, 64, 128, 256]\n",
    "kernel_sizes = [4, 4, 4, 4, 4]\n",
    "strides = [2,2,2,2,2]\n",
    "paddings = [0,0,0,0,0]\n",
    "output_paddings = [0,1,0,0,0]\n",
    "# paddings = [0,0]\n",
    "return_only_liner = 0\n",
    "dropout_prob = 0.3\n",
    "\n",
    "if return_only_liner:\n",
    "    conv_ip_size = (3, 128, 128)\n",
    "    hidden_sizes = [128*128*3, 4096, feature_size]\n",
    "else:\n",
    "    conv_ip_size = (256,2,2)\n",
    "#     hidden_sizes = [conv_ip_size[0]*conv_ip_size[1]*conv_ip_size[2], 256*3, 256, feature_size]\n",
    "    hidden_sizes = [conv_ip_size[0]*conv_ip_size[1]*conv_ip_size[2], feature_size]    "
   ]
  },
  {
   "cell_type": "code",
   "execution_count": 109,
   "id": "5bc5242d",
   "metadata": {},
   "outputs": [
    {
     "name": "stdout",
     "output_type": "stream",
     "text": [
      "[128, 1024]\n",
      "torch.Size([2048, 3, 128, 128]) torch.Size([2048, 128])\n",
      "----------------------------------------------------------------\n",
      "        Layer (type)               Output Shape         Param #\n",
      "================================================================\n",
      "            Conv2d-1           [-1, 16, 63, 63]             784\n",
      "              ReLU-2           [-1, 16, 63, 63]               0\n",
      "            Conv2d-3           [-1, 32, 30, 30]           8,224\n",
      "              ReLU-4           [-1, 32, 30, 30]               0\n",
      "            Conv2d-5           [-1, 64, 14, 14]          32,832\n",
      "              ReLU-6           [-1, 64, 14, 14]               0\n",
      "            Conv2d-7            [-1, 128, 6, 6]         131,200\n",
      "              ReLU-8            [-1, 128, 6, 6]               0\n",
      "            Conv2d-9            [-1, 256, 2, 2]         524,544\n",
      "             ReLU-10            [-1, 256, 2, 2]               0\n",
      "          Dropout-11                 [-1, 1024]               0\n",
      "           Linear-12                  [-1, 128]         131,200\n",
      "          Encoder-13                  [-1, 128]               0\n",
      "          Dropout-14                  [-1, 128]               0\n",
      "           Linear-15                 [-1, 1024]         132,096\n",
      "        Unflatten-16            [-1, 256, 2, 2]               0\n",
      "  ConvTranspose2d-17            [-1, 128, 6, 6]         524,416\n",
      "             ReLU-18            [-1, 128, 6, 6]               0\n",
      "  ConvTranspose2d-19           [-1, 64, 14, 14]         131,136\n",
      "             ReLU-20           [-1, 64, 14, 14]               0\n",
      "  ConvTranspose2d-21           [-1, 32, 30, 30]          32,800\n",
      "             ReLU-22           [-1, 32, 30, 30]               0\n",
      "  ConvTranspose2d-23           [-1, 16, 63, 63]           8,208\n",
      "             ReLU-24           [-1, 16, 63, 63]               0\n",
      "  ConvTranspose2d-25          [-1, 3, 128, 128]             771\n",
      "          Decoder-26          [-1, 3, 128, 128]               0\n",
      "================================================================\n",
      "Total params: 1,658,211\n",
      "Trainable params: 1,658,211\n",
      "Non-trainable params: 0\n",
      "----------------------------------------------------------------\n",
      "Input size (MB): 0.19\n",
      "Forward/backward pass size (MB): 4.13\n",
      "Params size (MB): 6.33\n",
      "Estimated Total Size (MB): 10.65\n",
      "----------------------------------------------------------------\n"
     ]
    }
   ],
   "source": [
    "ae = AutoEncoder(feature_size=feature_size, conv_ip_size=conv_ip_size, filters=filters, \n",
    "                 kernel_sizes=kernel_sizes,strides=strides,output_paddings=output_paddings, \n",
    "                 paddings=paddings, hiddens_sizes=hidden_sizes, return_only_liner=return_only_liner, droput_prob=dropout_prob).to(device)\n",
    "op, enc = ae(x.to(device))\n",
    "print(op.shape, enc.shape)\n",
    "\n",
    "# summary(ae, (3,32,32), device=\"cuda\")\n",
    "summary(ae, (3,width,width), device=\"cuda\")"
   ]
  },
  {
   "cell_type": "code",
   "execution_count": 110,
   "id": "24e4dfe8",
   "metadata": {},
   "outputs": [
    {
     "data": {
      "text/plain": [
       "<All keys matched successfully>"
      ]
     },
     "execution_count": 110,
     "metadata": {},
     "output_type": "execute_result"
    }
   ],
   "source": [
    "ae.load_state_dict(torch.load( f\"ckpts/autoencoder_{feature_size}_1l.pt\"))"
   ]
  },
  {
   "cell_type": "code",
   "execution_count": 111,
   "id": "72d333c7",
   "metadata": {},
   "outputs": [],
   "source": [
    "def get_latents(ae, dataloader, device=torch.device(\"cuda\")):\n",
    "    temp, labels = [], []\n",
    "    for X,y in tqdm(dataloader):\n",
    "        X = X.to(device)\n",
    "        with torch.no_grad():\n",
    "            ae.eval()\n",
    "            enc = ae.encoder(X)\n",
    "            temp.append(enc)\n",
    "            labels.extend(y)\n",
    "    latents = torch.cat(temp).to(device)\n",
    "    return latents, torch.tensor(labels)"
   ]
  },
  {
   "cell_type": "code",
   "execution_count": 113,
   "id": "f0b24d5b",
   "metadata": {},
   "outputs": [
    {
     "name": "stderr",
     "output_type": "stream",
     "text": [
      "100%|███████████████████████████████████████████████████████████████████████████████████████████████████████████████████████| 8/8 [00:04<00:00,  1.90it/s]\n",
      "100%|███████████████████████████████████████████████████████████████████████████████████████████████████████████████████████| 1/1 [00:00<00:00,  1.86it/s]"
     ]
    },
    {
     "name": "stdout",
     "output_type": "stream",
     "text": [
      "torch.Size([14630, 128]) torch.Size([1500, 128])\n"
     ]
    },
    {
     "name": "stderr",
     "output_type": "stream",
     "text": [
      "\n"
     ]
    }
   ],
   "source": [
    "train_latents, train_labels = get_latents(ae, train_loader)\n",
    "val_latents, val_labels = get_latents(ae, val_loader)\n",
    "print(train_latents.shape, val_latents.shape)"
   ]
  },
  {
   "cell_type": "code",
   "execution_count": 115,
   "id": "7345bf22",
   "metadata": {},
   "outputs": [],
   "source": [
    "class Classifier(nn.Module):\n",
    "    def __init__(self, hiddens_sizes = [2048, 1024, 512, 256, 3]):\n",
    "        super(Classifier, self).__init__()\n",
    "        hidden_layers = []\n",
    "        for i in range(len(hiddens_sizes)-1):\n",
    "            hidden_layers.append(nn.Linear(hiddens_sizes[i], hiddens_sizes[i+1]))\n",
    "#             hidden_layers.append(nn.Dropout(p=0.15))\n",
    "            if i < len(hiddens_sizes)-2:\n",
    "                hidden_layers.append(nn.ReLU(True))\n",
    "            \n",
    "        self.liner_layer = nn.Sequential(*(hidden_layers[:-1]))\n",
    "        \n",
    "    def forward(self, x):\n",
    "        logits = self.liner_layer(x)\n",
    "        y_log_probs = F.log_softmax(logits, dim=-1)\n",
    "        y_pred = torch.argmax(y_log_probs, dim=-1)\n",
    "        return logits, y_log_probs, y_pred\n",
    "    \n",
    "cl = Classifier(hiddens_sizes = [feature_size,64,3]).to(device)\n",
    "optim = torch.optim.Adam(cl.parameters(), lr=0.001)\n",
    "loss_fn = nn.CrossEntropyLoss()"
   ]
  },
  {
   "cell_type": "code",
   "execution_count": 116,
   "id": "3ad088aa",
   "metadata": {},
   "outputs": [
    {
     "name": "stderr",
     "output_type": "stream",
     "text": [
      "Epoch: 999 Train loss: 0.8847980499267578 Val loss: 0.9215441346168518: 100%|████████████████████████████████████████| 1000/1000 [00:01<00:00, 750.53it/s]\n"
     ]
    }
   ],
   "source": [
    "n_epochs = 1000\n",
    "tqdm_obj = tqdm(range(n_epochs))\n",
    "train_losses = []\n",
    "val_losses = []\n",
    "for epoch in tqdm_obj:\n",
    "    # train\n",
    "    cl.train()\n",
    "    optim.zero_grad()\n",
    "    logits, log_prob, y_pred = cl(train_latents)\n",
    "    loss = loss_fn(logits, train_labels.type(torch.LongTensor).to(device))\n",
    "    loss.backward()\n",
    "    optim.step()\n",
    "    train_losses.append(loss)\n",
    "    \n",
    "    # val\n",
    "    cl.eval()\n",
    "    with torch.no_grad():\n",
    "        val_logits, val_log_prob, val_y_pred = cl(val_latents)\n",
    "        val_loss = loss_fn(val_log_prob, val_labels.type(torch.LongTensor).to(device))\n",
    "        val_losses.append(val_loss)\n",
    "    \n",
    "    tqdm_obj.set_description_str(f\"Epoch: {epoch} Train loss: {loss} Val loss: {val_loss}\")\n",
    "    "
   ]
  },
  {
   "cell_type": "code",
   "execution_count": 117,
   "id": "bb106138",
   "metadata": {},
   "outputs": [
    {
     "data": {
      "text/plain": [
       "[<matplotlib.lines.Line2D at 0x7f9ba8f6c110>]"
      ]
     },
     "execution_count": 117,
     "metadata": {},
     "output_type": "execute_result"
    },
    {
     "data": {
      "image/png": "[encoded data removed]",
      "text/plain": [
       "<Figure size 640x480 with 1 Axes>"
      ]
     },
     "metadata": {},
     "output_type": "display_data"
    }
   ],
   "source": [
    "to_cpu = lambda arr: [each.detach().to(cpu_device) for each in arr]\n",
    "plt.plot(to_cpu(train_losses))\n",
    "plt.plot(to_cpu(val_losses))"
   ]
  },
  {
   "cell_type": "code",
   "execution_count": 118,
   "id": "5d2298a5",
   "metadata": {},
   "outputs": [
    {
     "data": {
      "text/plain": [
       "tensor(0.3440)"
      ]
     },
     "execution_count": 118,
     "metadata": {},
     "output_type": "execute_result"
    }
   ],
   "source": [
    "torchmetrics.Accuracy(task=\"multiclass\", num_classes=3)(val_y_pred.to(cpu_device), val_data.labels)"
   ]
  },
  {
   "cell_type": "code",
   "execution_count": 119,
   "id": "06b5948e",
   "metadata": {},
   "outputs": [
    {
     "data": {
      "text/plain": [
       "tensor(0.3352)"
      ]
     },
     "execution_count": 119,
     "metadata": {},
     "output_type": "execute_result"
    }
   ],
   "source": [
    "torchmetrics.Accuracy(task=\"multiclass\", num_classes=3)(y_pred.to(cpu_device), train_data.labels)"
   ]
  },
  {
   "cell_type": "code",
   "execution_count": 120,
   "id": "7f8743ec",
   "metadata": {},
   "outputs": [
    {
     "data": {
      "text/plain": [
       "tensor([[173, 175, 152],\n",
       "        [176, 169, 155],\n",
       "        [167, 159, 174]])"
      ]
     },
     "execution_count": 120,
     "metadata": {},
     "output_type": "execute_result"
    }
   ],
   "source": [
    "torchmetrics.ConfusionMatrix(task=\"multiclass\", num_classes=3)(val_y_pred.to(cpu_device), val_data.labels)"
   ]
  },
  {
   "cell_type": "code",
   "execution_count": null,
   "id": "eef47ac0",
   "metadata": {},
   "outputs": [],
   "source": []
  }
 ],
 "metadata": {
  "kernelspec": {
   "display_name": "Python [conda env:torch310]",
   "language": "python",
   "name": "conda-env-torch310-py"
  },
  "language_info": {
   "codemirror_mode": {
    "name": "ipython",
    "version": 3
   },
   "file_extension": ".py",
   "mimetype": "text/x-python",
   "name": "python",
   "nbconvert_exporter": "python",
   "pygments_lexer": "ipython3",
   "version": "3.11.5"
  }
 },
 "nbformat": 4,
 "nbformat_minor": 5
}
