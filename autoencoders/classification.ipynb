{
 "cells": [
  {
   "cell_type": "code",
   "execution_count": 1,
   "id": "4bee79ff",
   "metadata": {},
   "outputs": [],
   "source": [
    "import os\n",
    "os.environ[\"CUDA_VISIBLE_DEVICES\"] = \"2\""
   ]
  },
  {
   "cell_type": "code",
   "execution_count": 2,
   "id": "778541b3",
   "metadata": {},
   "outputs": [
    {
     "name": "stderr",
     "output_type": "stream",
     "text": [
      "/data3/home/karmpatel/miniconda3/envs/torch310/lib/python3.11/site-packages/tqdm/auto.py:21: TqdmWarning: IProgress not found. Please update jupyter and ipywidgets. See https://ipywidgets.readthedocs.io/en/stable/user_install.html\n",
      "  from .autonotebook import tqdm as notebook_tqdm\n"
     ]
    }
   ],
   "source": [
    "import zipfile\n",
    "# from natsort import natsorted\n",
    "import torch\n",
    "import torch.nn as nn\n",
    "from torch.utils.data import Dataset, DataLoader\n",
    "import torchvision.transforms as transforms\n",
    "from PIL import Image\n",
    "# from model import VAE\n",
    "\n",
    "import torch.nn as nn\n",
    "import torch.nn.functional as F\n",
    "import torchvision\n",
    "from torchsummary import summary\n",
    "import matplotlib.pyplot as plt\n",
    "from tqdm import tqdm\n",
    "import torchmetrics\n",
    "from torchvision.utils import save_image, make_grid\n",
    "\n",
    "# from models.vae import VAE\n",
    "from models.vae2 import VAE\n",
    "\n",
    "\n",
    "from models.auto_encoder import AutoEncoder\n",
    "from dataloader.animal_faces import AnimalfaceDataset\n",
    "\n",
    "device = torch.device(\"cuda\")\n",
    "cpu_device = torch.device(\"cpu\")\n",
    "\n",
    "%reload_ext autoreload\n",
    "%autoreload 2"
   ]
  },
  {
   "cell_type": "code",
   "execution_count": 3,
   "id": "664bb2be",
   "metadata": {},
   "outputs": [],
   "source": [
    "width = 128"
   ]
  },
  {
   "cell_type": "code",
   "execution_count": 4,
   "id": "a8e153a1",
   "metadata": {},
   "outputs": [
    {
     "name": "stderr",
     "output_type": "stream",
     "text": [
      "  0%|                                                                                                                         | 0/14630 [00:00<?, ?it/s]/data3/home/karmpatel/miniconda3/envs/torch310/lib/python3.11/site-packages/torchvision/transforms/functional.py:1603: UserWarning: The default value of the antialias parameter of all the resizing transforms (Resize(), RandomResizedCrop(), etc.) will change from None to True in v0.17, in order to be consistent across the PIL and Tensor backends. To suppress this warning, directly pass antialias=True (recommended, future default), antialias=None (current default, which means False for Tensors and True for PIL), or antialias=False (only works on Tensors - PIL will still use antialiasing). This also applies if you are using the inference transforms from the models weights: update the call to weights.transforms(antialias=True).\n",
      "  warnings.warn(\n",
      "100%|█████████████████████████████████████████████████████████████████████████████████████████████████████████████| 14630/14630 [18:36<00:00, 13.10it/s]\n"
     ]
    }
   ],
   "source": [
    "transform = transforms.Compose([transforms.ToTensor(), transforms.Resize((width,width))])\n",
    "train_data = AnimalfaceDataset(transform=transform)"
   ]
  },
  {
   "cell_type": "code",
   "execution_count": 5,
   "id": "def5d345",
   "metadata": {},
   "outputs": [
    {
     "name": "stderr",
     "output_type": "stream",
     "text": [
      "100%|███████████████████████████████████████████████████████████████████████████████████████████████████████████████| 1500/1500 [02:38<00:00,  9.48it/s]\n"
     ]
    }
   ],
   "source": [
    "val_data = AnimalfaceDataset(transform=transform, type=\"val\")"
   ]
  },
  {
   "cell_type": "code",
   "execution_count": 6,
   "id": "f4799390",
   "metadata": {},
   "outputs": [
    {
     "data": {
      "text/plain": [
       "(torch.Size([2048, 3, 128, 128]), torch.Size([2048]))"
      ]
     },
     "execution_count": 6,
     "metadata": {},
     "output_type": "execute_result"
    }
   ],
   "source": [
    "BATCH_SIZE = 2048\n",
    "val_loader = DataLoader(val_data, batch_size=BATCH_SIZE, shuffle=True)\n",
    "train_loader = DataLoader(train_data, batch_size=BATCH_SIZE, shuffle=True)\n",
    "x, y = next(iter(train_loader))\n",
    "x.shape, y.shape"
   ]
  },
  {
   "cell_type": "code",
   "execution_count": 60,
   "id": "c53fc94f",
   "metadata": {},
   "outputs": [],
   "source": [
    "n_samples = 4\n",
    "width = 128\n",
    "feature_size = 128\n",
    "filters = [3, 16, 32, 64, 128, 256]\n",
    "kernel_sizes = [4, 4, 4, 4, 4]\n",
    "strides = [2,2,2,2,2]\n",
    "paddings = [0,0,0,0,0]\n",
    "output_paddings = [0,1,0,0,0]\n",
    "# paddings = [0,0]\n",
    "return_only_liner = 0\n",
    "dropout_prob = 0.3\n",
    "\n",
    "if return_only_liner:\n",
    "    conv_ip_size = (3, 128, 128)\n",
    "    hidden_sizes = [128*128*3, 4096, feature_size]\n",
    "else:\n",
    "    conv_ip_size = (256,2,2)\n",
    "#     hidden_sizes = [conv_ip_size[0]*conv_ip_size[1]*conv_ip_size[2], 256*3, 256, feature_size]\n",
    "    hidden_sizes = [conv_ip_size[0]*conv_ip_size[1]*conv_ip_size[2], feature_size]    "
   ]
  },
  {
   "cell_type": "code",
   "execution_count": 9,
   "id": "5bc5242d",
   "metadata": {},
   "outputs": [
    {
     "name": "stdout",
     "output_type": "stream",
     "text": [
      "[128, 1024]\n",
      "torch.Size([2048, 3, 128, 128]) torch.Size([2048, 128])\n",
      "----------------------------------------------------------------\n",
      "        Layer (type)               Output Shape         Param #\n",
      "================================================================\n",
      "            Conv2d-1           [-1, 16, 63, 63]             784\n",
      "              ReLU-2           [-1, 16, 63, 63]               0\n",
      "            Conv2d-3           [-1, 32, 30, 30]           8,224\n",
      "              ReLU-4           [-1, 32, 30, 30]               0\n",
      "            Conv2d-5           [-1, 64, 14, 14]          32,832\n",
      "              ReLU-6           [-1, 64, 14, 14]               0\n",
      "            Conv2d-7            [-1, 128, 6, 6]         131,200\n",
      "              ReLU-8            [-1, 128, 6, 6]               0\n",
      "            Conv2d-9            [-1, 256, 2, 2]         524,544\n",
      "             ReLU-10            [-1, 256, 2, 2]               0\n",
      "          Dropout-11                 [-1, 1024]               0\n",
      "           Linear-12                  [-1, 128]         131,200\n",
      "          Encoder-13                  [-1, 128]               0\n",
      "          Dropout-14                  [-1, 128]               0\n",
      "           Linear-15                 [-1, 1024]         132,096\n",
      "        Unflatten-16            [-1, 256, 2, 2]               0\n",
      "  ConvTranspose2d-17            [-1, 128, 6, 6]         524,416\n",
      "             ReLU-18            [-1, 128, 6, 6]               0\n",
      "  ConvTranspose2d-19           [-1, 64, 14, 14]         131,136\n",
      "             ReLU-20           [-1, 64, 14, 14]               0\n",
      "  ConvTranspose2d-21           [-1, 32, 30, 30]          32,800\n",
      "             ReLU-22           [-1, 32, 30, 30]               0\n",
      "  ConvTranspose2d-23           [-1, 16, 63, 63]           8,208\n",
      "             ReLU-24           [-1, 16, 63, 63]               0\n",
      "  ConvTranspose2d-25          [-1, 3, 128, 128]             771\n",
      "          Decoder-26          [-1, 3, 128, 128]               0\n",
      "================================================================\n",
      "Total params: 1,658,211\n",
      "Trainable params: 1,658,211\n",
      "Non-trainable params: 0\n",
      "----------------------------------------------------------------\n",
      "Input size (MB): 0.19\n",
      "Forward/backward pass size (MB): 4.13\n",
      "Params size (MB): 6.33\n",
      "Estimated Total Size (MB): 10.65\n",
      "----------------------------------------------------------------\n"
     ]
    }
   ],
   "source": [
    "ae = AutoEncoder(feature_size=feature_size, conv_ip_size=conv_ip_size, filters=filters, \n",
    "                 kernel_sizes=kernel_sizes,strides=strides,output_paddings=output_paddings, \n",
    "                 paddings=paddings, hiddens_sizes=hidden_sizes, return_only_liner=return_only_liner, droput_prob=dropout_prob).to(device)\n",
    "op, enc = ae(x.to(device))\n",
    "print(op.shape, enc.shape)\n",
    "\n",
    "# summary(ae, (3,32,32), device=\"cuda\")\n",
    "summary(ae, (3,width,width), device=\"cuda\")"
   ]
  },
  {
   "cell_type": "code",
   "execution_count": 10,
   "id": "24e4dfe8",
   "metadata": {},
   "outputs": [
    {
     "data": {
      "text/plain": [
       "<All keys matched successfully>"
      ]
     },
     "execution_count": 10,
     "metadata": {},
     "output_type": "execute_result"
    }
   ],
   "source": [
    "ae.load_state_dict(torch.load( f\"ckpts/autoencoder_{feature_size}_1l.pt\"))"
   ]
  },
  {
   "cell_type": "code",
   "execution_count": 63,
   "id": "8b555dd4",
   "metadata": {},
   "outputs": [
    {
     "name": "stdout",
     "output_type": "stream",
     "text": [
      "[128, 1024]\n"
     ]
    },
    {
     "ename": "RuntimeError",
     "evalue": "Expected 3D (unbatched) or 4D (batched) input to conv2d, but got input of size: [38, 128]",
     "output_type": "error",
     "traceback": [
      "\u001b[0;31m---------------------------------------------------------------------------\u001b[0m",
      "\u001b[0;31mRuntimeError\u001b[0m                              Traceback (most recent call last)",
      "Cell \u001b[0;32mIn[63], line 5\u001b[0m\n\u001b[1;32m      1\u001b[0m vae \u001b[38;5;241m=\u001b[39m VAE(feature_size\u001b[38;5;241m=\u001b[39mfeature_size, conv_ip_size\u001b[38;5;241m=\u001b[39mconv_ip_size, filters\u001b[38;5;241m=\u001b[39mfilters, \n\u001b[1;32m      2\u001b[0m                  kernel_sizes\u001b[38;5;241m=\u001b[39mkernel_sizes,strides\u001b[38;5;241m=\u001b[39mstrides,output_paddings\u001b[38;5;241m=\u001b[39moutput_paddings, \n\u001b[1;32m      3\u001b[0m                  paddings\u001b[38;5;241m=\u001b[39mpaddings, hiddens_sizes\u001b[38;5;241m=\u001b[39mhidden_sizes, return_only_liner\u001b[38;5;241m=\u001b[39mreturn_only_liner, \n\u001b[1;32m      4\u001b[0m           droput_prob\u001b[38;5;241m=\u001b[39mdropout_prob, n_samples\u001b[38;5;241m=\u001b[39mn_samples)\u001b[38;5;241m.\u001b[39mto(device)\n\u001b[0;32m----> 5\u001b[0m op, enc, mu, logvar \u001b[38;5;241m=\u001b[39m vae(x\u001b[38;5;241m.\u001b[39mto(device))\n\u001b[1;32m      6\u001b[0m \u001b[38;5;28mprint\u001b[39m(op\u001b[38;5;241m.\u001b[39mshape, enc\u001b[38;5;241m.\u001b[39mshape)\n",
      "File \u001b[0;32m~/miniconda3/envs/torch310/lib/python3.11/site-packages/torch/nn/modules/module.py:1501\u001b[0m, in \u001b[0;36mModule._call_impl\u001b[0;34m(self, *args, **kwargs)\u001b[0m\n\u001b[1;32m   1496\u001b[0m \u001b[38;5;66;03m# If we don't have any hooks, we want to skip the rest of the logic in\u001b[39;00m\n\u001b[1;32m   1497\u001b[0m \u001b[38;5;66;03m# this function, and just call forward.\u001b[39;00m\n\u001b[1;32m   1498\u001b[0m \u001b[38;5;28;01mif\u001b[39;00m \u001b[38;5;129;01mnot\u001b[39;00m (\u001b[38;5;28mself\u001b[39m\u001b[38;5;241m.\u001b[39m_backward_hooks \u001b[38;5;129;01mor\u001b[39;00m \u001b[38;5;28mself\u001b[39m\u001b[38;5;241m.\u001b[39m_backward_pre_hooks \u001b[38;5;129;01mor\u001b[39;00m \u001b[38;5;28mself\u001b[39m\u001b[38;5;241m.\u001b[39m_forward_hooks \u001b[38;5;129;01mor\u001b[39;00m \u001b[38;5;28mself\u001b[39m\u001b[38;5;241m.\u001b[39m_forward_pre_hooks\n\u001b[1;32m   1499\u001b[0m         \u001b[38;5;129;01mor\u001b[39;00m _global_backward_pre_hooks \u001b[38;5;129;01mor\u001b[39;00m _global_backward_hooks\n\u001b[1;32m   1500\u001b[0m         \u001b[38;5;129;01mor\u001b[39;00m _global_forward_hooks \u001b[38;5;129;01mor\u001b[39;00m _global_forward_pre_hooks):\n\u001b[0;32m-> 1501\u001b[0m     \u001b[38;5;28;01mreturn\u001b[39;00m forward_call(\u001b[38;5;241m*\u001b[39margs, \u001b[38;5;241m*\u001b[39m\u001b[38;5;241m*\u001b[39mkwargs)\n\u001b[1;32m   1502\u001b[0m \u001b[38;5;66;03m# Do not call functions when jit is used\u001b[39;00m\n\u001b[1;32m   1503\u001b[0m full_backward_hooks, non_full_backward_hooks \u001b[38;5;241m=\u001b[39m [], []\n",
      "File \u001b[0;32m~/VAE/autoencoders/models/vae2.py:144\u001b[0m, in \u001b[0;36mVAE.forward\u001b[0;34m(self, x)\u001b[0m\n\u001b[1;32m    143\u001b[0m \u001b[38;5;28;01mdef\u001b[39;00m \u001b[38;5;21mforward\u001b[39m(\u001b[38;5;28mself\u001b[39m,x):\n\u001b[0;32m--> 144\u001b[0m     enc, mu, logvar \u001b[38;5;241m=\u001b[39m \u001b[38;5;28mself\u001b[39m\u001b[38;5;241m.\u001b[39mencoder(x)\n\u001b[1;32m    145\u001b[0m     x_hat \u001b[38;5;241m=\u001b[39m \u001b[38;5;28mself\u001b[39m\u001b[38;5;241m.\u001b[39mdecoder(enc)\n\u001b[1;32m    146\u001b[0m     x_hat_avg \u001b[38;5;241m=\u001b[39m x_hat\u001b[38;5;241m.\u001b[39mmean(dim\u001b[38;5;241m=\u001b[39m\u001b[38;5;241m0\u001b[39m)\n",
      "File \u001b[0;32m~/miniconda3/envs/torch310/lib/python3.11/site-packages/torch/nn/modules/module.py:1501\u001b[0m, in \u001b[0;36mModule._call_impl\u001b[0;34m(self, *args, **kwargs)\u001b[0m\n\u001b[1;32m   1496\u001b[0m \u001b[38;5;66;03m# If we don't have any hooks, we want to skip the rest of the logic in\u001b[39;00m\n\u001b[1;32m   1497\u001b[0m \u001b[38;5;66;03m# this function, and just call forward.\u001b[39;00m\n\u001b[1;32m   1498\u001b[0m \u001b[38;5;28;01mif\u001b[39;00m \u001b[38;5;129;01mnot\u001b[39;00m (\u001b[38;5;28mself\u001b[39m\u001b[38;5;241m.\u001b[39m_backward_hooks \u001b[38;5;129;01mor\u001b[39;00m \u001b[38;5;28mself\u001b[39m\u001b[38;5;241m.\u001b[39m_backward_pre_hooks \u001b[38;5;129;01mor\u001b[39;00m \u001b[38;5;28mself\u001b[39m\u001b[38;5;241m.\u001b[39m_forward_hooks \u001b[38;5;129;01mor\u001b[39;00m \u001b[38;5;28mself\u001b[39m\u001b[38;5;241m.\u001b[39m_forward_pre_hooks\n\u001b[1;32m   1499\u001b[0m         \u001b[38;5;129;01mor\u001b[39;00m _global_backward_pre_hooks \u001b[38;5;129;01mor\u001b[39;00m _global_backward_hooks\n\u001b[1;32m   1500\u001b[0m         \u001b[38;5;129;01mor\u001b[39;00m _global_forward_hooks \u001b[38;5;129;01mor\u001b[39;00m _global_forward_pre_hooks):\n\u001b[0;32m-> 1501\u001b[0m     \u001b[38;5;28;01mreturn\u001b[39;00m forward_call(\u001b[38;5;241m*\u001b[39margs, \u001b[38;5;241m*\u001b[39m\u001b[38;5;241m*\u001b[39mkwargs)\n\u001b[1;32m   1502\u001b[0m \u001b[38;5;66;03m# Do not call functions when jit is used\u001b[39;00m\n\u001b[1;32m   1503\u001b[0m full_backward_hooks, non_full_backward_hooks \u001b[38;5;241m=\u001b[39m [], []\n",
      "File \u001b[0;32m~/VAE/autoencoders/models/vae2.py:58\u001b[0m, in \u001b[0;36mEncoder.forward\u001b[0;34m(self, x)\u001b[0m\n\u001b[1;32m     56\u001b[0m     z \u001b[38;5;241m=\u001b[39m x\n\u001b[1;32m     57\u001b[0m \u001b[38;5;28;01melse\u001b[39;00m:\n\u001b[0;32m---> 58\u001b[0m     x \u001b[38;5;241m=\u001b[39m \u001b[38;5;28mself\u001b[39m\u001b[38;5;241m.\u001b[39mconv_layer(x)\n\u001b[1;32m     59\u001b[0m     x \u001b[38;5;241m=\u001b[39m x\u001b[38;5;241m.\u001b[39mflatten(start_dim\u001b[38;5;241m=\u001b[39m\u001b[38;5;241m1\u001b[39m)\n\u001b[1;32m     60\u001b[0m     x \u001b[38;5;241m=\u001b[39m \u001b[38;5;28mself\u001b[39m\u001b[38;5;241m.\u001b[39mliner_layer(x)\n",
      "File \u001b[0;32m~/miniconda3/envs/torch310/lib/python3.11/site-packages/torch/nn/modules/module.py:1501\u001b[0m, in \u001b[0;36mModule._call_impl\u001b[0;34m(self, *args, **kwargs)\u001b[0m\n\u001b[1;32m   1496\u001b[0m \u001b[38;5;66;03m# If we don't have any hooks, we want to skip the rest of the logic in\u001b[39;00m\n\u001b[1;32m   1497\u001b[0m \u001b[38;5;66;03m# this function, and just call forward.\u001b[39;00m\n\u001b[1;32m   1498\u001b[0m \u001b[38;5;28;01mif\u001b[39;00m \u001b[38;5;129;01mnot\u001b[39;00m (\u001b[38;5;28mself\u001b[39m\u001b[38;5;241m.\u001b[39m_backward_hooks \u001b[38;5;129;01mor\u001b[39;00m \u001b[38;5;28mself\u001b[39m\u001b[38;5;241m.\u001b[39m_backward_pre_hooks \u001b[38;5;129;01mor\u001b[39;00m \u001b[38;5;28mself\u001b[39m\u001b[38;5;241m.\u001b[39m_forward_hooks \u001b[38;5;129;01mor\u001b[39;00m \u001b[38;5;28mself\u001b[39m\u001b[38;5;241m.\u001b[39m_forward_pre_hooks\n\u001b[1;32m   1499\u001b[0m         \u001b[38;5;129;01mor\u001b[39;00m _global_backward_pre_hooks \u001b[38;5;129;01mor\u001b[39;00m _global_backward_hooks\n\u001b[1;32m   1500\u001b[0m         \u001b[38;5;129;01mor\u001b[39;00m _global_forward_hooks \u001b[38;5;129;01mor\u001b[39;00m _global_forward_pre_hooks):\n\u001b[0;32m-> 1501\u001b[0m     \u001b[38;5;28;01mreturn\u001b[39;00m forward_call(\u001b[38;5;241m*\u001b[39margs, \u001b[38;5;241m*\u001b[39m\u001b[38;5;241m*\u001b[39mkwargs)\n\u001b[1;32m   1502\u001b[0m \u001b[38;5;66;03m# Do not call functions when jit is used\u001b[39;00m\n\u001b[1;32m   1503\u001b[0m full_backward_hooks, non_full_backward_hooks \u001b[38;5;241m=\u001b[39m [], []\n",
      "File \u001b[0;32m~/miniconda3/envs/torch310/lib/python3.11/site-packages/torch/nn/modules/container.py:217\u001b[0m, in \u001b[0;36mSequential.forward\u001b[0;34m(self, input)\u001b[0m\n\u001b[1;32m    215\u001b[0m \u001b[38;5;28;01mdef\u001b[39;00m \u001b[38;5;21mforward\u001b[39m(\u001b[38;5;28mself\u001b[39m, \u001b[38;5;28minput\u001b[39m):\n\u001b[1;32m    216\u001b[0m     \u001b[38;5;28;01mfor\u001b[39;00m module \u001b[38;5;129;01min\u001b[39;00m \u001b[38;5;28mself\u001b[39m:\n\u001b[0;32m--> 217\u001b[0m         \u001b[38;5;28minput\u001b[39m \u001b[38;5;241m=\u001b[39m module(\u001b[38;5;28minput\u001b[39m)\n\u001b[1;32m    218\u001b[0m     \u001b[38;5;28;01mreturn\u001b[39;00m \u001b[38;5;28minput\u001b[39m\n",
      "File \u001b[0;32m~/miniconda3/envs/torch310/lib/python3.11/site-packages/torch/nn/modules/module.py:1501\u001b[0m, in \u001b[0;36mModule._call_impl\u001b[0;34m(self, *args, **kwargs)\u001b[0m\n\u001b[1;32m   1496\u001b[0m \u001b[38;5;66;03m# If we don't have any hooks, we want to skip the rest of the logic in\u001b[39;00m\n\u001b[1;32m   1497\u001b[0m \u001b[38;5;66;03m# this function, and just call forward.\u001b[39;00m\n\u001b[1;32m   1498\u001b[0m \u001b[38;5;28;01mif\u001b[39;00m \u001b[38;5;129;01mnot\u001b[39;00m (\u001b[38;5;28mself\u001b[39m\u001b[38;5;241m.\u001b[39m_backward_hooks \u001b[38;5;129;01mor\u001b[39;00m \u001b[38;5;28mself\u001b[39m\u001b[38;5;241m.\u001b[39m_backward_pre_hooks \u001b[38;5;129;01mor\u001b[39;00m \u001b[38;5;28mself\u001b[39m\u001b[38;5;241m.\u001b[39m_forward_hooks \u001b[38;5;129;01mor\u001b[39;00m \u001b[38;5;28mself\u001b[39m\u001b[38;5;241m.\u001b[39m_forward_pre_hooks\n\u001b[1;32m   1499\u001b[0m         \u001b[38;5;129;01mor\u001b[39;00m _global_backward_pre_hooks \u001b[38;5;129;01mor\u001b[39;00m _global_backward_hooks\n\u001b[1;32m   1500\u001b[0m         \u001b[38;5;129;01mor\u001b[39;00m _global_forward_hooks \u001b[38;5;129;01mor\u001b[39;00m _global_forward_pre_hooks):\n\u001b[0;32m-> 1501\u001b[0m     \u001b[38;5;28;01mreturn\u001b[39;00m forward_call(\u001b[38;5;241m*\u001b[39margs, \u001b[38;5;241m*\u001b[39m\u001b[38;5;241m*\u001b[39mkwargs)\n\u001b[1;32m   1502\u001b[0m \u001b[38;5;66;03m# Do not call functions when jit is used\u001b[39;00m\n\u001b[1;32m   1503\u001b[0m full_backward_hooks, non_full_backward_hooks \u001b[38;5;241m=\u001b[39m [], []\n",
      "File \u001b[0;32m~/miniconda3/envs/torch310/lib/python3.11/site-packages/torch/nn/modules/conv.py:463\u001b[0m, in \u001b[0;36mConv2d.forward\u001b[0;34m(self, input)\u001b[0m\n\u001b[1;32m    462\u001b[0m \u001b[38;5;28;01mdef\u001b[39;00m \u001b[38;5;21mforward\u001b[39m(\u001b[38;5;28mself\u001b[39m, \u001b[38;5;28minput\u001b[39m: Tensor) \u001b[38;5;241m-\u001b[39m\u001b[38;5;241m>\u001b[39m Tensor:\n\u001b[0;32m--> 463\u001b[0m     \u001b[38;5;28;01mreturn\u001b[39;00m \u001b[38;5;28mself\u001b[39m\u001b[38;5;241m.\u001b[39m_conv_forward(\u001b[38;5;28minput\u001b[39m, \u001b[38;5;28mself\u001b[39m\u001b[38;5;241m.\u001b[39mweight, \u001b[38;5;28mself\u001b[39m\u001b[38;5;241m.\u001b[39mbias)\n",
      "File \u001b[0;32m~/miniconda3/envs/torch310/lib/python3.11/site-packages/torch/nn/modules/conv.py:459\u001b[0m, in \u001b[0;36mConv2d._conv_forward\u001b[0;34m(self, input, weight, bias)\u001b[0m\n\u001b[1;32m    455\u001b[0m \u001b[38;5;28;01mif\u001b[39;00m \u001b[38;5;28mself\u001b[39m\u001b[38;5;241m.\u001b[39mpadding_mode \u001b[38;5;241m!=\u001b[39m \u001b[38;5;124m'\u001b[39m\u001b[38;5;124mzeros\u001b[39m\u001b[38;5;124m'\u001b[39m:\n\u001b[1;32m    456\u001b[0m     \u001b[38;5;28;01mreturn\u001b[39;00m F\u001b[38;5;241m.\u001b[39mconv2d(F\u001b[38;5;241m.\u001b[39mpad(\u001b[38;5;28minput\u001b[39m, \u001b[38;5;28mself\u001b[39m\u001b[38;5;241m.\u001b[39m_reversed_padding_repeated_twice, mode\u001b[38;5;241m=\u001b[39m\u001b[38;5;28mself\u001b[39m\u001b[38;5;241m.\u001b[39mpadding_mode),\n\u001b[1;32m    457\u001b[0m                     weight, bias, \u001b[38;5;28mself\u001b[39m\u001b[38;5;241m.\u001b[39mstride,\n\u001b[1;32m    458\u001b[0m                     _pair(\u001b[38;5;241m0\u001b[39m), \u001b[38;5;28mself\u001b[39m\u001b[38;5;241m.\u001b[39mdilation, \u001b[38;5;28mself\u001b[39m\u001b[38;5;241m.\u001b[39mgroups)\n\u001b[0;32m--> 459\u001b[0m \u001b[38;5;28;01mreturn\u001b[39;00m F\u001b[38;5;241m.\u001b[39mconv2d(\u001b[38;5;28minput\u001b[39m, weight, bias, \u001b[38;5;28mself\u001b[39m\u001b[38;5;241m.\u001b[39mstride,\n\u001b[1;32m    460\u001b[0m                 \u001b[38;5;28mself\u001b[39m\u001b[38;5;241m.\u001b[39mpadding, \u001b[38;5;28mself\u001b[39m\u001b[38;5;241m.\u001b[39mdilation, \u001b[38;5;28mself\u001b[39m\u001b[38;5;241m.\u001b[39mgroups)\n",
      "\u001b[0;31mRuntimeError\u001b[0m: Expected 3D (unbatched) or 4D (batched) input to conv2d, but got input of size: [38, 128]"
     ]
    }
   ],
   "source": [
    "vae = VAE(feature_size=feature_size, conv_ip_size=conv_ip_size, filters=filters, \n",
    "                 kernel_sizes=kernel_sizes,strides=strides,output_paddings=output_paddings, \n",
    "                 paddings=paddings, hiddens_sizes=hidden_sizes, return_only_liner=return_only_liner, \n",
    "          droput_prob=dropout_prob, n_samples=n_samples).to(device)\n",
    "op, enc, mu, logvar = vae(x.to(device))\n",
    "print(op.shape, enc.shape)"
   ]
  },
  {
   "cell_type": "code",
   "execution_count": null,
   "id": "5e224162",
   "metadata": {},
   "outputs": [],
   "source": []
  },
  {
   "cell_type": "code",
   "execution_count": 53,
   "id": "72d333c7",
   "metadata": {},
   "outputs": [],
   "source": [
    "def get_latents(ae, dataloader, device=torch.device(\"cuda\")):\n",
    "    temp, labels = [], []\n",
    "    for X,y in tqdm(dataloader):\n",
    "        X = X.to(device)\n",
    "        with torch.no_grad():\n",
    "            ae.eval()\n",
    "            enc = ae.encoder(X)\n",
    "            temp.append(enc)\n",
    "            labels.extend(y)\n",
    "    latents = torch.cat(temp).to(device)\n",
    "    return latents, torch.tensor(labels)\n",
    "\n",
    "def get_latents_vae(vae, dataloader, device=torch.device(\"cuda\")):\n",
    "    temp, labels = [], []\n",
    "    for X,y in tqdm(dataloader):\n",
    "        X = X.to(device)\n",
    "        with torch.no_grad():\n",
    "            vae.eval()\n",
    "            enc, mu, logvar = vae.encoder(X)\n",
    "            z = torch.concat((mu, logvar))\n",
    "            temp.append(z)\n",
    "            labels.extend(y)\n",
    "    latents = torch.cat(temp).to(device)\n",
    "    return latents, torch.tensor(labels)"
   ]
  },
  {
   "cell_type": "code",
   "execution_count": 14,
   "id": "9c0c7b83",
   "metadata": {},
   "outputs": [
    {
     "name": "stderr",
     "output_type": "stream",
     "text": [
      "100%|█████████████████████████████████████████████████████████████████████████████████████████████████████████████████████| 8/8 [00:01<00:00,  5.43it/s]\n",
      "100%|█████████████████████████████████████████████████████████████████████████████████████████████████████████████████████| 1/1 [00:00<00:00,  5.44it/s]\n"
     ]
    },
    {
     "name": "stdout",
     "output_type": "stream",
     "text": [
      "torch.Size([14630, 128]) torch.Size([1500, 128])\n"
     ]
    }
   ],
   "source": [
    "train_latents, train_labels = get_latents(ae, train_loader)\n",
    "val_latents, val_labels = get_latents(ae, val_loader)\n",
    "print(train_latents.shape, val_latents.shape)"
   ]
  },
  {
   "cell_type": "code",
   "execution_count": null,
   "id": "d0dd5776",
   "metadata": {},
   "outputs": [],
   "source": [
    "train_latents, train_labels = get_latents_vae(vae, train_loader)\n",
    "val_latents, val_labels = get_latents_vae(vae, val_loader)\n",
    "print(train_latents.shape, val_latents.shape)"
   ]
  },
  {
   "cell_type": "code",
   "execution_count": 24,
   "id": "0fd8868d",
   "metadata": {},
   "outputs": [],
   "source": [
    "# latents = train_latents[:100]\n",
    "# x_hat = ae.decoder(latents.to(device))\n",
    "# generated_grid = make_grid(x_hat, nrow=10)\n",
    "# plt.figure(figsize=(10,10))\n",
    "# plt.imshow(generated_grid.permute(1,2,0).detach().to(cpu_device).numpy())\n",
    "# # save_image(generated_grid,f\"images/vae_generated_{feature_size}_1l_{beta}.png\")"
   ]
  },
  {
   "cell_type": "code",
   "execution_count": 115,
   "id": "7345bf22",
   "metadata": {},
   "outputs": [],
   "source": [
    "# class Classifier(nn.Module):\n",
    "#     def __init__(self, hiddens_sizes = [2048, 1024, 512, 256, 3]):\n",
    "#         super(Classifier, self).__init__()\n",
    "#         hidden_layers = []\n",
    "#         for i in range(len(hiddens_sizes)-1):\n",
    "#             hidden_layers.append(nn.Linear(hiddens_sizes[i], hiddens_sizes[i+1]))\n",
    "# #             hidden_layers.append(nn.Dropout(p=0.15))\n",
    "#             if i < len(hiddens_sizes)-2:\n",
    "#                 hidden_layers.append(nn.ReLU(True))\n",
    "            \n",
    "#         self.liner_layer = nn.Sequential(*(hidden_layers[:-1]))\n",
    "        \n",
    "#     def forward(self, x):\n",
    "#         logits = self.liner_layer(x)\n",
    "#         y_log_probs = F.log_softmax(logits, dim=-1)\n",
    "#         y_pred = torch.argmax(y_log_probs, dim=-1)\n",
    "#         return logits, y_log_probs, y_pred\n",
    "    \n",
    "# cl = Classifier(hiddens_sizes = [feature_size,64,3]).to(device)\n",
    "# optim = torch.optim.Adam(cl.parameters(), lr=0.001)\n",
    "# loss_fn = nn.CrossEntropyLoss()"
   ]
  },
  {
   "cell_type": "code",
   "execution_count": 25,
   "id": "e144d49c",
   "metadata": {},
   "outputs": [],
   "source": [
    "class Classifier(nn.Module):\n",
    "    def __init__(self, ip_dim):\n",
    "        super(Classifier, self).__init__()\n",
    "        hidden_layers = []\n",
    "        self.fc1 = nn.Linear(ip_dim, 256)\n",
    "        self.fc2 = nn.Linear(256, 3)\n",
    "        \n",
    "        \n",
    "    def forward(self, x):\n",
    "        x = torch.relu(self.fc1(x))\n",
    "        x = self.fc2(x)\n",
    "        return x"
   ]
  },
  {
   "cell_type": "code",
   "execution_count": 26,
   "id": "3ad088aa",
   "metadata": {},
   "outputs": [],
   "source": [
    "# n_epochs = 1000\n",
    "# tqdm_obj = tqdm(range(n_epochs))\n",
    "# train_losses = []\n",
    "# val_losses = []\n",
    "# for epoch in tqdm_obj:\n",
    "#     # train\n",
    "#     cl.train()\n",
    "#     optim.zero_grad()\n",
    "#     logits, log_prob, y_pred = cl(train_latents)\n",
    "#     loss = loss_fn(logits, train_labels.type(torch.LongTensor).to(device))\n",
    "#     loss.backward()\n",
    "#     optim.step()\n",
    "#     train_losses.append(loss)\n",
    "    \n",
    "#     # val\n",
    "#     cl.eval()\n",
    "#     with torch.no_grad():\n",
    "#         val_logits, val_log_prob, val_y_pred = cl(val_latents)\n",
    "#         val_loss = loss_fn(val_log_prob, val_labels.type(torch.LongTensor).to(device))\n",
    "#         val_losses.append(val_loss)\n",
    "    \n",
    "#     tqdm_obj.set_description_str(f\"Epoch: {epoch} Train loss: {loss} Val loss: {val_loss}\")\n",
    "    "
   ]
  },
  {
   "cell_type": "code",
   "execution_count": null,
   "id": "590a19cb",
   "metadata": {},
   "outputs": [],
   "source": [
    "DataLoader()"
   ]
  },
  {
   "cell_type": "code",
   "execution_count": 36,
   "id": "984bc67d",
   "metadata": {},
   "outputs": [],
   "source": [
    "import torch\n",
    "from torch.utils.data import TensorDataset, DataLoader\n",
    "\n",
    "# Create a TensorDataset from x and y\n",
    "dataset = TensorDataset(train_latents, train_labels)\n",
    "\n",
    "# Create a DataLoader from the dataset\n",
    "batch_size = 256  # Adjust the batch size according to your needs\n",
    "dataloader = DataLoader(dataset, batch_size=batch_size, shuffle=True)"
   ]
  },
  {
   "cell_type": "code",
   "execution_count": 39,
   "id": "22575ade",
   "metadata": {},
   "outputs": [
    {
     "data": {
      "text/plain": [
       "torch.Size([256])"
      ]
     },
     "execution_count": 39,
     "metadata": {},
     "output_type": "execute_result"
    }
   ],
   "source": [
    "next(iter(dataloader))[1].shape"
   ]
  },
  {
   "cell_type": "code",
   "execution_count": 47,
   "id": "2c74bb9f",
   "metadata": {},
   "outputs": [
    {
     "name": "stderr",
     "output_type": "stream",
     "text": [
      "Epoch: 14 Train loss: 0.10106989741325378 Val loss: 0.31500309705734253: 100%|██████████████████████████████████████████| 15/15 [00:01<00:00,  7.94it/s]\n"
     ]
    }
   ],
   "source": [
    "n_epochs = 15\n",
    "tqdm_obj = tqdm(range(n_epochs))\n",
    "train_losses = []\n",
    "val_losses = []\n",
    "\n",
    "cl = Classifier(ip_dim=feature_size).to(device)\n",
    "optim = torch.optim.Adam(cl.parameters(), lr=0.001)\n",
    "loss_fn = nn.CrossEntropyLoss()\n",
    "\n",
    "for epoch in tqdm_obj:\n",
    "    for x,y in dataloader:\n",
    "        x,y = x.to(device), y.to(device)\n",
    "        # train\n",
    "        cl.train()\n",
    "        optim.zero_grad()\n",
    "        logits = cl(x)\n",
    "        loss = loss_fn(logits, y.type(torch.LongTensor).to(device))\n",
    "        loss.backward()\n",
    "        optim.step()\n",
    "        train_losses.append(loss)\n",
    "    \n",
    "    # val\n",
    "    cl.eval()\n",
    "    with torch.no_grad():\n",
    "        val_logits = cl(val_latents)\n",
    "        val_loss = loss_fn(val_logits, val_labels.type(torch.LongTensor).to(device))\n",
    "        val_losses.append(val_loss)\n",
    "    \n",
    "    tqdm_obj.set_description_str(f\"Epoch: {epoch} Train loss: {loss} Val loss: {val_loss}\")\n",
    "    "
   ]
  },
  {
   "cell_type": "code",
   "execution_count": 48,
   "id": "bb106138",
   "metadata": {},
   "outputs": [
    {
     "data": {
      "text/plain": [
       "[<matplotlib.lines.Line2D at 0x7fa259712150>]"
      ]
     },
     "execution_count": 48,
     "metadata": {},
     "output_type": "execute_result"
    },
    {
     "data": {
      "image/png": "[encoded data removed]",
      "text/plain": [
       "<Figure size 640x480 with 1 Axes>"
      ]
     },
     "metadata": {},
     "output_type": "display_data"
    }
   ],
   "source": [
    "to_cpu = lambda arr: [each.detach().to(cpu_device) for each in arr]\n",
    "# plt.plot(to_cpu(train_losses))\n",
    "plt.plot(to_cpu(val_losses))"
   ]
  },
  {
   "cell_type": "code",
   "execution_count": 49,
   "id": "5d2298a5",
   "metadata": {},
   "outputs": [
    {
     "data": {
      "text/plain": [
       "tensor(0.8947)"
      ]
     },
     "execution_count": 49,
     "metadata": {},
     "output_type": "execute_result"
    }
   ],
   "source": [
    "val_y_pred = torch.argmax(val_logits, dim=-1)\n",
    "torchmetrics.Accuracy(task=\"multiclass\", num_classes=3)(val_y_pred.to(cpu_device), val_labels)"
   ]
  },
  {
   "cell_type": "code",
   "execution_count": 52,
   "id": "7f8743ec",
   "metadata": {},
   "outputs": [
    {
     "data": {
      "text/plain": [
       "tensor([[447,  32,  21],\n",
       "        [ 16, 458,  26],\n",
       "        [ 33,  30, 437]])"
      ]
     },
     "execution_count": 52,
     "metadata": {},
     "output_type": "execute_result"
    }
   ],
   "source": [
    "torchmetrics.ConfusionMatrix(task=\"multiclass\", num_classes=3)(val_y_pred.to(cpu_device), val_labels)"
   ]
  },
  {
   "cell_type": "code",
   "execution_count": null,
   "id": "eef47ac0",
   "metadata": {},
   "outputs": [],
   "source": []
  }
 ],
 "metadata": {
  "kernelspec": {
   "display_name": "Python [conda env:torch310]",
   "language": "python",
   "name": "conda-env-torch310-py"
  },
  "language_info": {
   "codemirror_mode": {
    "name": "ipython",
    "version": 3
   },
   "file_extension": ".py",
   "mimetype": "text/x-python",
   "name": "python",
   "nbconvert_exporter": "python",
   "pygments_lexer": "ipython3",
   "version": "3.11.5"
  }
 },
 "nbformat": 4,
 "nbformat_minor": 5
}
