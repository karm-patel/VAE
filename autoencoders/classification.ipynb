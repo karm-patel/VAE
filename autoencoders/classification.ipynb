{
 "cells": [
  {
   "cell_type": "code",
   "execution_count": 1,
   "id": "25d4981a",
   "metadata": {},
   "outputs": [],
   "source": [
    "import os\n",
    "os.environ[\"CUDA_VISIBLE_DEVICES\"] = \"1\""
   ]
  },
  {
   "cell_type": "code",
   "execution_count": 2,
   "id": "fb7c83c8",
   "metadata": {},
   "outputs": [],
   "source": [
    "import zipfile\n",
    "# from natsort import natsorted\n",
    "import torch\n",
    "import torch.nn as nn\n",
    "from torch.utils.data import Dataset, DataLoader\n",
    "import torchvision.transforms as transforms\n",
    "from PIL import Image\n",
    "# from model import VAE\n",
    "\n",
    "import torch.nn as nn\n",
    "import torch.nn.functional as F\n",
    "import torchvision\n",
    "from torchsummary import summary\n",
    "import matplotlib.pyplot as plt\n",
    "from tqdm import tqdm\n",
    "import torchmetrics\n",
    "\n",
    "from models.auto_encoder import AutoEncoder\n",
    "from dataloader.animal_faces import AnimalfaceDataset\n",
    "\n",
    "device = torch.device(\"cuda\")\n",
    "cpu_device = torch.device(\"cpu\")\n",
    "\n",
    "%reload_ext autoreload\n",
    "%autoreload 2"
   ]
  },
  {
   "cell_type": "code",
   "execution_count": 42,
   "id": "3d672274",
   "metadata": {},
   "outputs": [],
   "source": [
    "conv_ip_size = (32, 6, 6)\n",
    "feature_size = 2048 \n",
    "filters = [3, 8, 16, 32, 32]\n",
    "kernel_sizes = [7, 5, 3, 3]\n",
    "strides = [2, 2, 2, 2]\n",
    "output_paddings = [1,0,0, 1]\n",
    "paddings = [0,0,0,0]\n",
    "ae = AutoEncoder(feature_size=feature_size, conv_ip_size=conv_ip_size, filters=filters, kernel_sizes=kernel_sizes,strides=strides,output_paddings=output_paddings, paddings=paddings).to(device)"
   ]
  },
  {
   "cell_type": "code",
   "execution_count": 43,
   "id": "cbd591d7",
   "metadata": {},
   "outputs": [
    {
     "data": {
      "text/plain": [
       "<All keys matched successfully>"
      ]
     },
     "execution_count": 43,
     "metadata": {},
     "output_type": "execute_result"
    }
   ],
   "source": [
    "ae.load_state_dict(torch.load(f\"ckpts/autoencoder_{feature_size}.pt\"))"
   ]
  },
  {
   "cell_type": "code",
   "execution_count": 9,
   "id": "8d4ee583",
   "metadata": {},
   "outputs": [
    {
     "name": "stderr",
     "output_type": "stream",
     "text": [
      "  0%|                                                                                      | 0/14630 [00:00<?, ?it/s]/data3/home/karmpatel/miniconda3/envs/torch310/lib/python3.11/site-packages/torchvision/transforms/functional.py:1603: UserWarning: The default value of the antialias parameter of all the resizing transforms (Resize(), RandomResizedCrop(), etc.) will change from None to True in v0.17, in order to be consistent across the PIL and Tensor backends. To suppress this warning, directly pass antialias=True (recommended, future default), antialias=None (current default, which means False for Tensors and True for PIL), or antialias=False (only works on Tensors - PIL will still use antialiasing). This also applies if you are using the inference transforms from the models weights: update the call to weights.transforms(antialias=True).\n",
      "  warnings.warn(\n",
      "100%|█████████████████████████████████████████████████████████████████████████| 14630/14630 [01:19<00:00, 183.05it/s]\n"
     ]
    }
   ],
   "source": [
    "transform = transforms.Compose([transforms.ToTensor(), transforms.Resize((128,128))])\n",
    "train_data = AnimalfaceDataset(transform=transform)"
   ]
  },
  {
   "cell_type": "code",
   "execution_count": 10,
   "id": "23403769",
   "metadata": {},
   "outputs": [
    {
     "name": "stderr",
     "output_type": "stream",
     "text": [
      "100%|███████████████████████████████████████████████████████████████████████████| 1500/1500 [00:08<00:00, 172.16it/s]\n"
     ]
    }
   ],
   "source": [
    "val_data = AnimalfaceDataset(transform=transform, type=\"val\")"
   ]
  },
  {
   "cell_type": "code",
   "execution_count": 44,
   "id": "b6e19969",
   "metadata": {},
   "outputs": [
    {
     "data": {
      "text/plain": [
       "(torch.Size([2048, 3, 128, 128]), torch.Size([2048]))"
      ]
     },
     "execution_count": 44,
     "metadata": {},
     "output_type": "execute_result"
    }
   ],
   "source": [
    "BATCH_SIZE = 2048\n",
    "val_loader = DataLoader(val_data, batch_size=BATCH_SIZE, shuffle=True)\n",
    "train_loader = DataLoader(train_data, batch_size=BATCH_SIZE, shuffle=True)\n",
    "x, y = next(iter(train_loader))\n",
    "x.shape, y.shape"
   ]
  },
  {
   "cell_type": "code",
   "execution_count": 45,
   "id": "d222a030",
   "metadata": {},
   "outputs": [],
   "source": [
    "def get_latents(ae, dataloader, device=torch.device(\"cuda\")):\n",
    "    temp = []\n",
    "    for X,y in tqdm(dataloader):\n",
    "        X = X.to(device)\n",
    "        with torch.no_grad():\n",
    "            ae.eval()\n",
    "            _, enc = ae(X)\n",
    "            temp.append(enc)\n",
    "    latents = torch.cat(temp).to(device)\n",
    "    return latents"
   ]
  },
  {
   "cell_type": "code",
   "execution_count": 46,
   "id": "10436fb4",
   "metadata": {},
   "outputs": [
    {
     "name": "stderr",
     "output_type": "stream",
     "text": [
      "100%|██████████████████████████████████████████████████████████████████████████████████| 8/8 [00:03<00:00,  2.49it/s]\n",
      "100%|██████████████████████████████████████████████████████████████████████████████████| 1/1 [00:00<00:00,  3.02it/s]"
     ]
    },
    {
     "name": "stdout",
     "output_type": "stream",
     "text": [
      "torch.Size([14630, 2048]) torch.Size([1500, 2048])\n"
     ]
    },
    {
     "name": "stderr",
     "output_type": "stream",
     "text": [
      "\n"
     ]
    }
   ],
   "source": [
    "train_latents = get_latents(ae, train_loader)\n",
    "val_latents = get_latents(ae, val_loader)\n",
    "print(train_latents.shape, val_latents.shape)"
   ]
  },
  {
   "cell_type": "code",
   "execution_count": 59,
   "id": "efcfdbe9",
   "metadata": {},
   "outputs": [],
   "source": [
    "class Classifier(nn.Module):\n",
    "    def __init__(self, hiddens_sizes = [2048, 1024, 512, 256, 3]):\n",
    "        super(Classifier, self).__init__()\n",
    "        hidden_layers = []\n",
    "        for i in range(len(hiddens_sizes)-1):\n",
    "            hidden_layers.append(nn.Linear(hiddens_sizes[i], hiddens_sizes[i+1]))\n",
    "            hidden_layers.append(nn.Dropout(p=0.3))\n",
    "            hidden_layers.append(nn.ReLU(True))\n",
    "            \n",
    "        self.liner_layer = nn.Sequential(*(hidden_layers[:-1]))\n",
    "        \n",
    "    def forward(self, x):\n",
    "        logits = self.liner_layer(x)\n",
    "        y_log_probs = F.log_softmax(logits, dim=-1)\n",
    "        y_pred = torch.argmax(y_log_probs, dim=-1)\n",
    "        return logits, y_log_probs, y_pred\n",
    "    \n",
    "cl = Classifier(hiddens_sizes = [2048, 1024, 512, 256, 3]).to(device)"
   ]
  },
  {
   "cell_type": "code",
   "execution_count": 60,
   "id": "addf27b8",
   "metadata": {},
   "outputs": [],
   "source": [
    "optim = torch.optim.Adam(cl.parameters(), lr=0.0001)\n",
    "loss_fn = nn.NLLLoss()"
   ]
  },
  {
   "cell_type": "code",
   "execution_count": 61,
   "id": "b4112700",
   "metadata": {},
   "outputs": [
    {
     "name": "stderr",
     "output_type": "stream",
     "text": [
      "Epoch: 99 Train loss: 1.0790549516677856 Val loss: 1.1074047088623047: 100%|███████| 100/100 [00:03<00:00, 29.64it/s]\n"
     ]
    }
   ],
   "source": [
    "n_epochs = 100\n",
    "tqdm_obj = tqdm(range(n_epochs))\n",
    "train_losses = []\n",
    "val_losses = []\n",
    "for epoch in tqdm_obj:\n",
    "    # train\n",
    "    cl.train()\n",
    "    optim.zero_grad()\n",
    "    logits, log_prob, y_pred = cl(train_latents)\n",
    "    loss = loss_fn(log_prob, train_data.labels.type(torch.LongTensor).to(device))\n",
    "    loss.backward()\n",
    "    optim.step()\n",
    "    train_losses.append(loss)\n",
    "    \n",
    "    # val\n",
    "    cl.eval()\n",
    "    with torch.no_grad():\n",
    "        val_logits, val_log_prob, val_y_pred = cl(val_latents)\n",
    "        val_loss = loss_fn(val_log_prob, val_data.labels.type(torch.LongTensor).to(device))\n",
    "        val_losses.append(val_loss)\n",
    "    \n",
    "    tqdm_obj.set_description_str(f\"Epoch: {epoch} Train loss: {loss} Val loss: {val_loss}\")\n",
    "    "
   ]
  },
  {
   "cell_type": "code",
   "execution_count": 62,
   "id": "2f018260",
   "metadata": {},
   "outputs": [
    {
     "data": {
      "text/plain": [
       "[<matplotlib.lines.Line2D at 0x7f550de51010>]"
      ]
     },
     "execution_count": 62,
     "metadata": {},
     "output_type": "execute_result"
    },
    {
     "data": {
      "image/png": "[encoded data removed]",
      "text/plain": [
       "<Figure size 640x480 with 1 Axes>"
      ]
     },
     "metadata": {},
     "output_type": "display_data"
    }
   ],
   "source": [
    "to_cpu = lambda arr: [each.detach().to(cpu_device) for each in arr]\n",
    "plt.plot(to_cpu(train_losses))\n",
    "plt.plot(to_cpu(val_losses))"
   ]
  },
  {
   "cell_type": "code",
   "execution_count": 29,
   "id": "ed4b278b",
   "metadata": {},
   "outputs": [
    {
     "data": {
      "text/plain": [
       "tensor(0.3313)"
      ]
     },
     "execution_count": 29,
     "metadata": {},
     "output_type": "execute_result"
    }
   ],
   "source": [
    "torchmetrics.Accuracy(task=\"multiclass\", num_classes=3)(val_y_pred.to(cpu_device), val_data.labels)"
   ]
  },
  {
   "cell_type": "code",
   "execution_count": 30,
   "id": "271617ac",
   "metadata": {},
   "outputs": [
    {
     "data": {
      "text/plain": [
       "tensor(0.6722)"
      ]
     },
     "execution_count": 30,
     "metadata": {},
     "output_type": "execute_result"
    }
   ],
   "source": [
    "torchmetrics.Accuracy(task=\"multiclass\", num_classes=3)(y_pred.to(cpu_device), train_data.labels)"
   ]
  },
  {
   "cell_type": "code",
   "execution_count": 32,
   "id": "63d3f3a8",
   "metadata": {},
   "outputs": [
    {
     "data": {
      "text/plain": [
       "tensor([[153, 179, 168],\n",
       "        [144, 186, 170],\n",
       "        [150, 192, 158]])"
      ]
     },
     "execution_count": 32,
     "metadata": {},
     "output_type": "execute_result"
    }
   ],
   "source": [
    "torchmetrics.ConfusionMatrix(task=\"multiclass\", num_classes=3)(val_y_pred.to(cpu_device), val_data.labels)"
   ]
  },
  {
   "cell_type": "code",
   "execution_count": null,
   "id": "41ba94b2",
   "metadata": {},
   "outputs": [],
   "source": []
  }
 ],
 "metadata": {
  "kernelspec": {
   "display_name": "Python [conda env:torch310]",
   "language": "python",
   "name": "conda-env-torch310-py"
  },
  "language_info": {
   "codemirror_mode": {
    "name": "ipython",
    "version": 3
   },
   "file_extension": ".py",
   "mimetype": "text/x-python",
   "name": "python",
   "nbconvert_exporter": "python",
   "pygments_lexer": "ipython3",
   "version": "3.11.5"
  }
 },
 "nbformat": 4,
 "nbformat_minor": 5
}
